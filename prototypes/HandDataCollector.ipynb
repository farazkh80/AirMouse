{
 "cells": [
  {
   "cell_type": "markdown",
   "source": [
    "# A Data Collector Module for Storing Hand Coordinates from Mediapipe's Hands Solution"
   ],
   "metadata": {}
  },
  {
   "cell_type": "markdown",
   "source": [
    "## Objective: \r\n",
    "Live data collection of person's hands gestures for further use for classification of the gesture.\r\n",
    "\r\n",
    "## How it Works:\r\n",
    "After setting up the dependicies and ensuring that opencv is setup with mediapipe, you will choose a name for your gesture and run the last block of code for opencv to detectyou performing the hand gesture for about 30-60 seconds with different angles."
   ],
   "metadata": {}
  },
  {
   "cell_type": "markdown",
   "source": [
    "## Install dependencies"
   ],
   "metadata": {}
  },
  {
   "cell_type": "code",
   "execution_count": null,
   "source": [
    "!pip install mediapipe opencv-python pandas scikit-learn"
   ],
   "outputs": [],
   "metadata": {}
  },
  {
   "cell_type": "code",
   "execution_count": 1,
   "source": [
    "import mediapipe as mp \r\n",
    "import cv2"
   ],
   "outputs": [],
   "metadata": {}
  },
  {
   "cell_type": "code",
   "execution_count": 2,
   "source": [
    "mp_drawing = mp.solutions.drawing_utils # Drawing helper\r\n",
    "mp_hands = mp.solutions.hands"
   ],
   "outputs": [],
   "metadata": {}
  },
  {
   "cell_type": "markdown",
   "source": [
    "## Ensuring that opencv and mediapipe are working.\r\n",
    "This is not for detection, only a test run for visualization. Please be sure that before pressing quit to terminate the run of the code block below, your hand was being detected and `results` was not a NoneType"
   ],
   "metadata": {}
  },
  {
   "cell_type": "code",
   "execution_count": 3,
   "source": [
    "cap = cv2.VideoCapture(0)\r\n",
    "# intialize holistic model with only one hand\r\n",
    "# (could be changed to more than one)\r\n",
    "with mp_hands.Hands(max_num_hands=1) as hand:\r\n",
    "\r\n",
    "    while cap.isOpened():\r\n",
    "        ret, frame = cap.read()\r\n",
    "\r\n",
    "        # Recolor the image\r\n",
    "        image = cv2.cvtColor(frame, cv2.COLOR_BGR2RGB)\r\n",
    "        image.flags.writeable = False\r\n",
    "        # Make Detections\r\n",
    "        results = hand.process(image)\r\n",
    "\r\n",
    "        # Landmark detection\r\n",
    "        image.flags.writeable = True\r\n",
    "        image = cv2.cvtColor(image, cv2.COLOR_RGB2BGR)\r\n",
    "        \r\n",
    "        if results.multi_hand_landmarks:\r\n",
    "            for handLms in results.multi_hand_landmarks:\r\n",
    "                    #[print(landmark) for landmark in handLms.landmark]\r\n",
    "                    mp_drawing.draw_landmarks(image, handLms, mp_hands.HAND_CONNECTIONS)\r\n",
    "                    \r\n",
    "\r\n",
    "                        \r\n",
    "        cv2.imshow('Raw Webcam Feed', image)\r\n",
    "\r\n",
    "        if cv2.waitKey(10) & 0xFF == ord('q'):\r\n",
    "            break\r\n",
    "\r\n",
    "cap.release()\r\n",
    "cv2.destroyAllWindows()"
   ],
   "outputs": [],
   "metadata": {}
  },
  {
   "cell_type": "markdown",
   "source": [
    "# Capture Landmarks and export to CSV"
   ],
   "metadata": {}
  },
  {
   "cell_type": "code",
   "execution_count": 4,
   "source": [
    "import csv\r\n",
    "import os\r\n",
    "import numpy as np"
   ],
   "outputs": [],
   "metadata": {}
  },
  {
   "cell_type": "code",
   "execution_count": 5,
   "source": [
    "num_cords = len(results.multi_hand_landmarks[0].landmark)\r\n",
    "num_cords"
   ],
   "outputs": [
    {
     "output_type": "execute_result",
     "data": {
      "text/plain": [
       "21"
      ]
     },
     "metadata": {},
     "execution_count": 5
    }
   ],
   "metadata": {}
  },
  {
   "cell_type": "code",
   "execution_count": 6,
   "source": [
    "landmarks = ['class']\r\n",
    "for val in range(1, num_cords+1):\r\n",
    "    landmarks += ['x{}'.format(val), 'y{}'.format(val), 'z{}'.format(val)]"
   ],
   "outputs": [],
   "metadata": {}
  },
  {
   "cell_type": "code",
   "execution_count": 7,
   "source": [
    "# reset csv\r\n",
    "def reset_csv():\r\n",
    "    f = open('hands-coords.csv', 'r+')\r\n",
    "    f.truncate(0)\r\n",
    "\r\n",
    "reset_csv()"
   ],
   "outputs": [],
   "metadata": {}
  },
  {
   "cell_type": "code",
   "execution_count": 8,
   "source": [
    "with open('hands-coords.csv', mode='w', newline='') as f:\r\n",
    "    csv_writer = csv.writer(f, delimiter=',', quotechar='\"', quoting=csv.QUOTE_MINIMAL)\r\n",
    "    csv_writer.writerow(landmarks)"
   ],
   "outputs": [],
   "metadata": {}
  },
  {
   "cell_type": "code",
   "execution_count": 16,
   "source": [
    "class_name = \"You\"\r\n",
    "cap = cv2.VideoCapture(0)\r\n",
    "# intialize hand model\r\n",
    "with mp_hands.Hands(max_num_hands=1) as hand:\r\n",
    "\r\n",
    "    while cap.isOpened():\r\n",
    "        ret, frame = cap.read()\r\n",
    "\r\n",
    "        # Recolor the image\r\n",
    "        image = cv2.cvtColor(frame, cv2.COLOR_BGR2RGB)\r\n",
    "        image.flags.writeable = False\r\n",
    "        # Make Detections\r\n",
    "        results = hand.process(image)\r\n",
    "\r\n",
    "        # Landmark detection\r\n",
    "        image.flags.writeable = True\r\n",
    "        image = cv2.cvtColor(image, cv2.COLOR_RGB2BGR)\r\n",
    "        \r\n",
    "        if results.multi_hand_landmarks:\r\n",
    "            for handLms in results.multi_hand_landmarks:\r\n",
    "                    mp_drawing.draw_landmarks(image, handLms, mp_hands.HAND_CONNECTIONS)\r\n",
    "\r\n",
    "        if results.multi_hand_landmarks:\r\n",
    "            # Export coordinates\r\n",
    "            try:\r\n",
    "                # Extracting hand landmarks\r\n",
    "                # Extracting pose landmark\r\n",
    "                detected_hand = results.multi_hand_landmarks[0].landmark\r\n",
    "                hand_row = list(np.array([[landmark.x, landmark.y, landmark.z] for landmark in detected_hand]).flatten())\r\n",
    "                #print(list([landmark for landmark in detected_hand]))\r\n",
    "\r\n",
    "                # Concatanate rows\r\n",
    "                row = hand_row\r\n",
    "                row.insert(0, class_name)\r\n",
    "\r\n",
    "                with open('../data/hands-coords.csv', mode='a', newline='') as f:\r\n",
    "                    csv_writer = csv.writer(f, delimiter=',', quotechar='\"', quoting=csv.QUOTE_MINIMAL)\r\n",
    "                    csv_writer.writerow(row)\r\n",
    "\r\n",
    "            except:\r\n",
    "                pass\r\n",
    "\r\n",
    "        cv2.imshow('Raw Webcam Feed', image)\r\n",
    "\r\n",
    "        if cv2.waitKey(10) & 0xFF == ord('q'):\r\n",
    "            break\r\n",
    "\r\n",
    "cap.release()\r\n",
    "cv2.destroyAllWindows()"
   ],
   "outputs": [],
   "metadata": {}
  },
  {
   "cell_type": "code",
   "execution_count": 15,
   "source": [
    "# reset csv\r\n",
    "# def reset_csv():\r\n",
    "#     f = open('hands-coords.csv', 'r+')\r\n",
    "#     f.truncate(0)\r\n",
    "\r\n",
    "# reset_csv()"
   ],
   "outputs": [],
   "metadata": {}
  }
 ],
 "metadata": {
  "orig_nbformat": 4,
  "language_info": {
   "name": "python",
   "version": "3.8.5",
   "mimetype": "text/x-python",
   "codemirror_mode": {
    "name": "ipython",
    "version": 3
   },
   "pygments_lexer": "ipython3",
   "nbconvert_exporter": "python",
   "file_extension": ".py"
  },
  "kernelspec": {
   "name": "python3",
   "display_name": "Python 3.8.5 64-bit ('base': conda)"
  },
  "interpreter": {
   "hash": "1df6b99b5e9756eed4e22fb0d124bf8d9f8552b372ae034d7c6b29f98bd0c98b"
  }
 },
 "nbformat": 4,
 "nbformat_minor": 2
}