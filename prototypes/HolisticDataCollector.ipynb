{
 "cells": [
  {
   "cell_type": "code",
   "execution_count": 28,
   "source": [
    "!pip install mediapipe opencv-python pandas scikit-learn"
   ],
   "outputs": [
    {
     "output_type": "stream",
     "name": "stdout",
     "text": [
      "Requirement already satisfied: mediapipe in c:\\users\\faraz khoubsirat\\anaconda3\\lib\\site-packages (0.8.6)\n",
      "Requirement already satisfied: opencv-python in c:\\users\\faraz khoubsirat\\anaconda3\\lib\\site-packages (4.5.3.56)\n",
      "Requirement already satisfied: pandas in c:\\users\\faraz khoubsirat\\anaconda3\\lib\\site-packages (1.1.3)\n",
      "Requirement already satisfied: scikit-learn in c:\\users\\faraz khoubsirat\\anaconda3\\lib\\site-packages (0.23.2)\n",
      "Requirement already satisfied: matplotlib in c:\\users\\faraz khoubsirat\\anaconda3\\lib\\site-packages (from mediapipe) (3.3.2)\n",
      "Requirement already satisfied: numpy in c:\\users\\faraz khoubsirat\\anaconda3\\lib\\site-packages (from mediapipe) (1.21.0)\n",
      "Requirement already satisfied: wheel in c:\\users\\faraz khoubsirat\\anaconda3\\lib\\site-packages (from mediapipe) (0.35.1)\n",
      "Requirement already satisfied: opencv-contrib-python in c:\\users\\faraz khoubsirat\\anaconda3\\lib\\site-packages (from mediapipe) (4.5.3.56)\n",
      "Requirement already satisfied: attrs>=19.1.0 in c:\\users\\faraz khoubsirat\\anaconda3\\lib\\site-packages (from mediapipe) (20.3.0)\n",
      "Requirement already satisfied: protobuf>=3.11.4 in c:\\users\\faraz khoubsirat\\anaconda3\\lib\\site-packages (from mediapipe) (3.17.3)\n",
      "Requirement already satisfied: absl-py in c:\\users\\faraz khoubsirat\\anaconda3\\lib\\site-packages (from mediapipe) (0.13.0)\n",
      "Requirement already satisfied: six in c:\\users\\faraz khoubsirat\\anaconda3\\lib\\site-packages (from mediapipe) (1.15.0)\n",
      "Requirement already satisfied: pytz>=2017.2 in c:\\users\\faraz khoubsirat\\anaconda3\\lib\\site-packages (from pandas) (2020.1)\n",
      "Requirement already satisfied: python-dateutil>=2.7.3 in c:\\users\\faraz khoubsirat\\anaconda3\\lib\\site-packages (from pandas) (2.8.1)\n",
      "Requirement already satisfied: scipy>=0.19.1 in c:\\users\\faraz khoubsirat\\anaconda3\\lib\\site-packages (from scikit-learn) (1.5.2)\n",
      "Requirement already satisfied: joblib>=0.11 in c:\\users\\faraz khoubsirat\\anaconda3\\lib\\site-packages (from scikit-learn) (0.17.0)\n",
      "Requirement already satisfied: threadpoolctl>=2.0.0 in c:\\users\\faraz khoubsirat\\anaconda3\\lib\\site-packages (from scikit-learn) (2.1.0)\n",
      "Requirement already satisfied: pillow>=6.2.0 in c:\\users\\faraz khoubsirat\\anaconda3\\lib\\site-packages (from matplotlib->mediapipe) (8.3.1)\n",
      "Requirement already satisfied: certifi>=2020.06.20 in c:\\users\\faraz khoubsirat\\anaconda3\\lib\\site-packages (from matplotlib->mediapipe) (2020.6.20)\n",
      "Requirement already satisfied: cycler>=0.10 in c:\\users\\faraz khoubsirat\\anaconda3\\lib\\site-packages (from matplotlib->mediapipe) (0.10.0)\n",
      "Requirement already satisfied: kiwisolver>=1.0.1 in c:\\users\\faraz khoubsirat\\anaconda3\\lib\\site-packages (from matplotlib->mediapipe) (1.3.0)\n",
      "Requirement already satisfied: pyparsing!=2.0.4,!=2.1.2,!=2.1.6,>=2.0.3 in c:\\users\\faraz khoubsirat\\anaconda3\\lib\\site-packages (from matplotlib->mediapipe) (2.4.7)\n"
     ]
    }
   ],
   "metadata": {}
  },
  {
   "cell_type": "code",
   "execution_count": 6,
   "source": [
    "import mediapipe as mp \r\n",
    "import cv2"
   ],
   "outputs": [],
   "metadata": {}
  },
  {
   "cell_type": "code",
   "execution_count": 7,
   "source": [
    "mp_drawing = mp.solutions.drawing_utils # Drawing helper\r\n",
    "mp_holistic = mp.solutions.holistic"
   ],
   "outputs": [],
   "metadata": {}
  },
  {
   "cell_type": "markdown",
   "source": [
    "# Making Detections"
   ],
   "metadata": {}
  },
  {
   "cell_type": "code",
   "execution_count": 10,
   "source": [
    "cap = cv2.VideoCapture(0)\r\n",
    "# intialize holistic model\r\n",
    "with mp_holistic.Holistic(min_detection_confidence=0.5, min_tracking_confidence=0.5) as holistic:\r\n",
    "\r\n",
    "    while cap.isOpened():\r\n",
    "        ret, frame = cap.read()\r\n",
    "\r\n",
    "        # Recolor the image\r\n",
    "        image = cv2.cvtColor(frame, cv2.COLOR_BGR2RGB)\r\n",
    "        image.flags.writeable = False\r\n",
    "        # Make Detections\r\n",
    "        results = holistic.process(image)\r\n",
    "\r\n",
    "        # Landmark detection\r\n",
    "        image.flags.writeable = True\r\n",
    "        image = cv2.cvtColor(image, cv2.COLOR_RGB2BGR)\r\n",
    "\r\n",
    "        # 1. Draw face landmarks\r\n",
    "        mp_drawing.draw_landmarks(image, results.face_landmarks, mp_holistic.FACE_CONNECTIONS, \r\n",
    "                                 mp_drawing.DrawingSpec(color=(80,110,10), thickness=1, circle_radius=1),\r\n",
    "                                 mp_drawing.DrawingSpec(color=(80,256,121), thickness=1, circle_radius=1)\r\n",
    "                                 )\r\n",
    "        \r\n",
    "        # 2. Right hand\r\n",
    "        mp_drawing.draw_landmarks(image, results.right_hand_landmarks, mp_holistic.HAND_CONNECTIONS, \r\n",
    "                                 mp_drawing.DrawingSpec(color=(80,22,10), thickness=2, circle_radius=4),\r\n",
    "                                 mp_drawing.DrawingSpec(color=(80,44,121), thickness=2, circle_radius=2)\r\n",
    "                                 )\r\n",
    "\r\n",
    "        # 3. Left Hand\r\n",
    "        mp_drawing.draw_landmarks(image, results.left_hand_landmarks, mp_holistic.HAND_CONNECTIONS, \r\n",
    "                                 mp_drawing.DrawingSpec(color=(121,22,76), thickness=2, circle_radius=4),\r\n",
    "                                 mp_drawing.DrawingSpec(color=(121,44,250), thickness=2, circle_radius=2)\r\n",
    "                                 )\r\n",
    "\r\n",
    "        # 4. Pose Detections\r\n",
    "        mp_drawing.draw_landmarks(image, results.pose_landmarks, mp_holistic.POSE_CONNECTIONS, \r\n",
    "                                 mp_drawing.DrawingSpec(color=(245,117,66), thickness=2, circle_radius=4),\r\n",
    "                                 mp_drawing.DrawingSpec(color=(245,66,230), thickness=2, circle_radius=2)\r\n",
    "                                 )\r\n",
    "                        \r\n",
    "        cv2.imshow('Raw Webcam Feed', image)\r\n",
    "\r\n",
    "        if cv2.waitKey(10) & 0xFF == ord('q'):\r\n",
    "            break\r\n",
    "\r\n",
    "cap.release()\r\n",
    "cv2.destroyAllWindows()"
   ],
   "outputs": [],
   "metadata": {}
  },
  {
   "cell_type": "markdown",
   "source": [
    "# Capture Landmarks and export to CSV"
   ],
   "metadata": {}
  },
  {
   "cell_type": "code",
   "execution_count": 11,
   "source": [
    "import csv\r\n",
    "import os\r\n",
    "import numpy as np"
   ],
   "outputs": [],
   "metadata": {}
  },
  {
   "cell_type": "code",
   "execution_count": 12,
   "source": [
    "num_cords = len(results.pose_landmarks.landmark) + len(results.face_landmarks.landmark)\r\n",
    "num_cords"
   ],
   "outputs": [
    {
     "output_type": "execute_result",
     "data": {
      "text/plain": [
       "501"
      ]
     },
     "metadata": {},
     "execution_count": 12
    }
   ],
   "metadata": {}
  },
  {
   "cell_type": "code",
   "execution_count": 13,
   "source": [
    "landmarks = ['class']\r\n",
    "for val in range(1, num_cords+1):\r\n",
    "    landmarks += ['x{}'.format(val), 'y{}'.format(val), 'z{}'.format(val), 'v{}'.format(val)]"
   ],
   "outputs": [],
   "metadata": {}
  },
  {
   "cell_type": "code",
   "execution_count": 14,
   "source": [
    "with open('coords.csv', mode='w', newline='') as f:\r\n",
    "    csv_writer = csv.writer(f, delimiter=',', quotechar='\"', quoting=csv.QUOTE_MINIMAL)\r\n",
    "    csv_writer.writerow(landmarks)"
   ],
   "outputs": [],
   "metadata": {}
  },
  {
   "cell_type": "code",
   "execution_count": 17,
   "source": [
    "class_name = \"Tried\"\r\n",
    "cap = cv2.VideoCapture(0)\r\n",
    "# intialize holistic model\r\n",
    "with mp_holistic.Holistic(min_detection_confidence=0.5, min_tracking_confidence=0.5) as holistic:\r\n",
    "\r\n",
    "    while cap.isOpened():\r\n",
    "        ret, frame = cap.read()\r\n",
    "\r\n",
    "        # Recolor the image\r\n",
    "        image = cv2.cvtColor(frame, cv2.COLOR_BGR2RGB)\r\n",
    "        image.flags.writeable = False\r\n",
    "        # Make Detections\r\n",
    "        results = holistic.process(image)\r\n",
    " \r\n",
    "        image.flags.writeable = True\r\n",
    "        image = cv2.cvtColor(image, cv2.COLOR_RGB2BGR)\r\n",
    "\r\n",
    "        # Landmark detection\r\n",
    "        # 1. Draw face landmarks\r\n",
    "        mp_drawing.draw_landmarks(image, results.face_landmarks, mp_holistic.FACE_CONNECTIONS, \r\n",
    "                                 mp_drawing.DrawingSpec(color=(80,110,10), thickness=1, circle_radius=1),\r\n",
    "                                 mp_drawing.DrawingSpec(color=(80,256,121), thickness=1, circle_radius=1)\r\n",
    "                                 )\r\n",
    "        \r\n",
    "        # 2. Right hand\r\n",
    "        mp_drawing.draw_landmarks(image, results.right_hand_landmarks, mp_holistic.HAND_CONNECTIONS, \r\n",
    "                                 mp_drawing.DrawingSpec(color=(80,22,10), thickness=2, circle_radius=4),\r\n",
    "                                 mp_drawing.DrawingSpec(color=(80,44,121), thickness=2, circle_radius=2)\r\n",
    "                                 )\r\n",
    "\r\n",
    "        # 3. Left Hand\r\n",
    "        mp_drawing.draw_landmarks(image, results.left_hand_landmarks, mp_holistic.HAND_CONNECTIONS, \r\n",
    "                                 mp_drawing.DrawingSpec(color=(121,22,76), thickness=2, circle_radius=4),\r\n",
    "                                 mp_drawing.DrawingSpec(color=(121,44,250), thickness=2, circle_radius=2)\r\n",
    "                                 )\r\n",
    "\r\n",
    "        # 4. Pose Detections\r\n",
    "        mp_drawing.draw_landmarks(image, results.pose_landmarks, mp_holistic.POSE_CONNECTIONS, \r\n",
    "                                 mp_drawing.DrawingSpec(color=(245,117,66), thickness=2, circle_radius=4),\r\n",
    "                                 mp_drawing.DrawingSpec(color=(245,66,230), thickness=2, circle_radius=2)\r\n",
    "                                 )\r\n",
    "        # Export coordinates\r\n",
    "        try:\r\n",
    "\r\n",
    "            # Extracting pose landmark\r\n",
    "            pose = results.pose_landmarks.landmark\r\n",
    "            pose_row = list(np.array([[landmark.x, landmark.y, landmark.z, landmark.visibility] for landmark in pose]).flatten())\r\n",
    "\r\n",
    "            # Extracting face landmark\r\n",
    "            face = results.face_landmarks.landmark\r\n",
    "            face_row = list(np.array([[landmark.x, landmark.y, landmark.z, landmark.visibility] for landmark in face]).flatten())\r\n",
    "\r\n",
    "            # Concatanate rows\r\n",
    "            row = pose_row + face_row\r\n",
    "            row.insert(0, class_name)\r\n",
    "\r\n",
    "            with open('coords.csv', mode='a', newline='') as f:\r\n",
    "                csv_writer = csv.writer(f, delimiter=',', quotechar='\"', quoting=csv.QUOTE_MINIMAL)\r\n",
    "                csv_writer.writerow(row)\r\n",
    "\r\n",
    "        except:\r\n",
    "            pass\r\n",
    "\r\n",
    "        cv2.imshow('Raw Webcam Feed', image)\r\n",
    "\r\n",
    "        if cv2.waitKey(10) & 0xFF == ord('q'):\r\n",
    "            break\r\n",
    "\r\n",
    "cap.release()\r\n",
    "cv2.destroyAllWindows()"
   ],
   "outputs": [],
   "metadata": {}
  },
  {
   "cell_type": "code",
   "execution_count": null,
   "source": [
    "# reset csv\r\n",
    "def reset_csv():\r\n",
    "    f = open('coords.csv', 'r+')\r\n",
    "    f.truncate(0)\r\n",
    "\r\n",
    "reset_csv()"
   ],
   "outputs": [],
   "metadata": {}
  },
  {
   "cell_type": "code",
   "execution_count": null,
   "source": [],
   "outputs": [],
   "metadata": {}
  }
 ],
 "metadata": {
  "orig_nbformat": 4,
  "language_info": {
   "name": "python",
   "version": "3.8.5",
   "mimetype": "text/x-python",
   "codemirror_mode": {
    "name": "ipython",
    "version": 3
   },
   "pygments_lexer": "ipython3",
   "nbconvert_exporter": "python",
   "file_extension": ".py"
  },
  "kernelspec": {
   "name": "python3",
   "display_name": "Python 3.8.5 64-bit ('base': conda)"
  },
  "interpreter": {
   "hash": "1df6b99b5e9756eed4e22fb0d124bf8d9f8552b372ae034d7c6b29f98bd0c98b"
  }
 },
 "nbformat": 4,
 "nbformat_minor": 2
}