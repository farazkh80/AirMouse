{
 "cells": [
  {
   "cell_type": "markdown",
   "source": [
    "# A Classification Neural Network Designed for Multiclass Pose Detection with Pytorch and Scklearn"
   ],
   "metadata": {}
  },
  {
   "cell_type": "markdown",
   "source": [
    "## In Developement"
   ],
   "metadata": {}
  },
  {
   "cell_type": "markdown",
   "source": [
    "# Preprocessing data"
   ],
   "metadata": {}
  },
  {
   "cell_type": "code",
   "execution_count": 1,
   "source": [
    "import pandas as pd\r\n",
    "import numpy as np\r\n",
    "import seaborn as sns\r\n",
    "import matplotlib.pyplot as plt\r\n",
    "import mediapipe as mp \r\n",
    "import cv2\r\n",
    "\r\n",
    "import torch\r\n",
    "import torch.nn as nn\r\n",
    "import torch.optim as optim\r\n",
    "from torch.utils.data import Dataset, DataLoader, WeightedRandomSampler\r\n",
    "\r\n",
    "from sklearn.preprocessing import StandardScaler, LabelEncoder\r\n",
    "from sklearn.model_selection import train_test_split\r\n",
    "from sklearn.metrics import classification_report, confusion_matrix"
   ],
   "outputs": [],
   "metadata": {}
  },
  {
   "cell_type": "code",
   "execution_count": 2,
   "source": [
    "# Get dataset from csv\r\n",
    "df = pd.read_csv('hands-coords.csv')\r\n",
    "df.head()"
   ],
   "outputs": [
    {
     "output_type": "execute_result",
     "data": {
      "text/plain": [
       "  class        x1        y1        z1        x2        y2        z2        x3  \\\n",
       "0  OPEN  0.133079  0.803265 -0.000003  0.223318  0.755159 -0.065259  0.298350   \n",
       "1  OPEN  0.150588  0.767340 -0.000077  0.250065  0.709875 -0.074892  0.325554   \n",
       "2  OPEN  0.189386  0.734750 -0.000055  0.286886  0.692143 -0.072405  0.362686   \n",
       "3  OPEN  0.216902  0.730650 -0.000090  0.318528  0.684575 -0.054690  0.395420   \n",
       "4  OPEN  0.236359  0.743055 -0.000109  0.335344  0.696353 -0.048366  0.410177   \n",
       "\n",
       "         y3        z3  ...       z18       x19       y19       z19       x20  \\\n",
       "0  0.650100 -0.107756  ... -0.138427  0.005162  0.452539 -0.202575  0.003198   \n",
       "1  0.615681 -0.119330  ... -0.090350  0.042382  0.370480 -0.142733  0.040724   \n",
       "2  0.602163 -0.113038  ... -0.094121  0.096428  0.339823 -0.142506  0.090486   \n",
       "3  0.595470 -0.085698  ... -0.094849  0.128114  0.326521 -0.142430  0.121402   \n",
       "4  0.602037 -0.073905  ... -0.094502  0.151234  0.340649 -0.141837  0.146338   \n",
       "\n",
       "        y20       z20       x21       y21       z21  \n",
       "0  0.384908 -0.243605  0.010728  0.336541 -0.276406  \n",
       "1  0.320515 -0.190375  0.042421  0.293379 -0.223604  \n",
       "2  0.281070 -0.178169  0.086609  0.229779 -0.204797  \n",
       "3  0.258354 -0.186646  0.115474  0.193716 -0.220493  \n",
       "4  0.269274 -0.182816  0.141425  0.202615 -0.212230  \n",
       "\n",
       "[5 rows x 64 columns]"
      ],
      "text/html": [
       "<div>\n",
       "<style scoped>\n",
       "    .dataframe tbody tr th:only-of-type {\n",
       "        vertical-align: middle;\n",
       "    }\n",
       "\n",
       "    .dataframe tbody tr th {\n",
       "        vertical-align: top;\n",
       "    }\n",
       "\n",
       "    .dataframe thead th {\n",
       "        text-align: right;\n",
       "    }\n",
       "</style>\n",
       "<table border=\"1\" class=\"dataframe\">\n",
       "  <thead>\n",
       "    <tr style=\"text-align: right;\">\n",
       "      <th></th>\n",
       "      <th>class</th>\n",
       "      <th>x1</th>\n",
       "      <th>y1</th>\n",
       "      <th>z1</th>\n",
       "      <th>x2</th>\n",
       "      <th>y2</th>\n",
       "      <th>z2</th>\n",
       "      <th>x3</th>\n",
       "      <th>y3</th>\n",
       "      <th>z3</th>\n",
       "      <th>...</th>\n",
       "      <th>z18</th>\n",
       "      <th>x19</th>\n",
       "      <th>y19</th>\n",
       "      <th>z19</th>\n",
       "      <th>x20</th>\n",
       "      <th>y20</th>\n",
       "      <th>z20</th>\n",
       "      <th>x21</th>\n",
       "      <th>y21</th>\n",
       "      <th>z21</th>\n",
       "    </tr>\n",
       "  </thead>\n",
       "  <tbody>\n",
       "    <tr>\n",
       "      <th>0</th>\n",
       "      <td>OPEN</td>\n",
       "      <td>0.133079</td>\n",
       "      <td>0.803265</td>\n",
       "      <td>-0.000003</td>\n",
       "      <td>0.223318</td>\n",
       "      <td>0.755159</td>\n",
       "      <td>-0.065259</td>\n",
       "      <td>0.298350</td>\n",
       "      <td>0.650100</td>\n",
       "      <td>-0.107756</td>\n",
       "      <td>...</td>\n",
       "      <td>-0.138427</td>\n",
       "      <td>0.005162</td>\n",
       "      <td>0.452539</td>\n",
       "      <td>-0.202575</td>\n",
       "      <td>0.003198</td>\n",
       "      <td>0.384908</td>\n",
       "      <td>-0.243605</td>\n",
       "      <td>0.010728</td>\n",
       "      <td>0.336541</td>\n",
       "      <td>-0.276406</td>\n",
       "    </tr>\n",
       "    <tr>\n",
       "      <th>1</th>\n",
       "      <td>OPEN</td>\n",
       "      <td>0.150588</td>\n",
       "      <td>0.767340</td>\n",
       "      <td>-0.000077</td>\n",
       "      <td>0.250065</td>\n",
       "      <td>0.709875</td>\n",
       "      <td>-0.074892</td>\n",
       "      <td>0.325554</td>\n",
       "      <td>0.615681</td>\n",
       "      <td>-0.119330</td>\n",
       "      <td>...</td>\n",
       "      <td>-0.090350</td>\n",
       "      <td>0.042382</td>\n",
       "      <td>0.370480</td>\n",
       "      <td>-0.142733</td>\n",
       "      <td>0.040724</td>\n",
       "      <td>0.320515</td>\n",
       "      <td>-0.190375</td>\n",
       "      <td>0.042421</td>\n",
       "      <td>0.293379</td>\n",
       "      <td>-0.223604</td>\n",
       "    </tr>\n",
       "    <tr>\n",
       "      <th>2</th>\n",
       "      <td>OPEN</td>\n",
       "      <td>0.189386</td>\n",
       "      <td>0.734750</td>\n",
       "      <td>-0.000055</td>\n",
       "      <td>0.286886</td>\n",
       "      <td>0.692143</td>\n",
       "      <td>-0.072405</td>\n",
       "      <td>0.362686</td>\n",
       "      <td>0.602163</td>\n",
       "      <td>-0.113038</td>\n",
       "      <td>...</td>\n",
       "      <td>-0.094121</td>\n",
       "      <td>0.096428</td>\n",
       "      <td>0.339823</td>\n",
       "      <td>-0.142506</td>\n",
       "      <td>0.090486</td>\n",
       "      <td>0.281070</td>\n",
       "      <td>-0.178169</td>\n",
       "      <td>0.086609</td>\n",
       "      <td>0.229779</td>\n",
       "      <td>-0.204797</td>\n",
       "    </tr>\n",
       "    <tr>\n",
       "      <th>3</th>\n",
       "      <td>OPEN</td>\n",
       "      <td>0.216902</td>\n",
       "      <td>0.730650</td>\n",
       "      <td>-0.000090</td>\n",
       "      <td>0.318528</td>\n",
       "      <td>0.684575</td>\n",
       "      <td>-0.054690</td>\n",
       "      <td>0.395420</td>\n",
       "      <td>0.595470</td>\n",
       "      <td>-0.085698</td>\n",
       "      <td>...</td>\n",
       "      <td>-0.094849</td>\n",
       "      <td>0.128114</td>\n",
       "      <td>0.326521</td>\n",
       "      <td>-0.142430</td>\n",
       "      <td>0.121402</td>\n",
       "      <td>0.258354</td>\n",
       "      <td>-0.186646</td>\n",
       "      <td>0.115474</td>\n",
       "      <td>0.193716</td>\n",
       "      <td>-0.220493</td>\n",
       "    </tr>\n",
       "    <tr>\n",
       "      <th>4</th>\n",
       "      <td>OPEN</td>\n",
       "      <td>0.236359</td>\n",
       "      <td>0.743055</td>\n",
       "      <td>-0.000109</td>\n",
       "      <td>0.335344</td>\n",
       "      <td>0.696353</td>\n",
       "      <td>-0.048366</td>\n",
       "      <td>0.410177</td>\n",
       "      <td>0.602037</td>\n",
       "      <td>-0.073905</td>\n",
       "      <td>...</td>\n",
       "      <td>-0.094502</td>\n",
       "      <td>0.151234</td>\n",
       "      <td>0.340649</td>\n",
       "      <td>-0.141837</td>\n",
       "      <td>0.146338</td>\n",
       "      <td>0.269274</td>\n",
       "      <td>-0.182816</td>\n",
       "      <td>0.141425</td>\n",
       "      <td>0.202615</td>\n",
       "      <td>-0.212230</td>\n",
       "    </tr>\n",
       "  </tbody>\n",
       "</table>\n",
       "<p>5 rows × 64 columns</p>\n",
       "</div>"
      ]
     },
     "metadata": {},
     "execution_count": 2
    }
   ],
   "metadata": {}
  },
  {
   "cell_type": "code",
   "execution_count": 3,
   "source": [
    "df.shape"
   ],
   "outputs": [
    {
     "output_type": "execute_result",
     "data": {
      "text/plain": [
       "(6554, 64)"
      ]
     },
     "metadata": {},
     "execution_count": 3
    }
   ],
   "metadata": {}
  },
  {
   "cell_type": "code",
   "execution_count": 4,
   "source": [
    "sns.countplot(x = 'class', data=df)"
   ],
   "outputs": [
    {
     "output_type": "execute_result",
     "data": {
      "text/plain": [
       "<AxesSubplot:xlabel='class', ylabel='count'>"
      ]
     },
     "metadata": {},
     "execution_count": 4
    },
    {
     "output_type": "display_data",
     "data": {
      "text/plain": [
       "<Figure size 432x288 with 1 Axes>"
      ],
      "image/png": "[encoded data removed]"
     },
     "metadata": {
      "needs_background": "light"
     }
    }
   ],
   "metadata": {}
  },
  {
   "cell_type": "code",
   "execution_count": 5,
   "source": [
    "# Hand Model Visualization\r\n",
    "df_pivot_x = pd.pivot_table(\r\n",
    "    df, \r\n",
    "    values=[\"x4\", \"x8\", \"x12\", \"x16\", \"x20\"],\r\n",
    "    index=\"class\", \r\n",
    "    aggfunc=np.mean\r\n",
    ")\r\n",
    "df_pivot_y = pd.pivot_table(\r\n",
    "    df, \r\n",
    "    values=[\"y4\", \"y8\", \"y12\", \"y16\", \"y20\"],\r\n",
    "    index=\"class\", \r\n",
    "    aggfunc=np.mean\r\n",
    ")\r\n",
    "fig, axes = plt.subplots(1,2,figsize=(12,6))\r\n",
    "df_pivot_x.plot(kind=\"bar\", title=\"X axis\", ax=axes[0])\r\n",
    "df_pivot_y.plot(kind=\"bar\", title=\"Y axis\", ax=axes[1])\r\n"
   ],
   "outputs": [
    {
     "output_type": "execute_result",
     "data": {
      "text/plain": [
       "<AxesSubplot:title={'center':'Y axis'}, xlabel='class'>"
      ]
     },
     "metadata": {},
     "execution_count": 5
    },
    {
     "output_type": "display_data",
     "data": {
      "text/plain": [
       "<Figure size 864x432 with 2 Axes>"
      ],
      "image/png": "[encoded data removed]"
     },
     "metadata": {
      "needs_background": "light"
     }
    }
   ],
   "metadata": {}
  },
  {
   "cell_type": "code",
   "execution_count": 6,
   "source": [
    "# Encode the class\r\n",
    "le = LabelEncoder()\r\n",
    "le.fit(df['class'])\r\n",
    "df['class_encoded'] = le.transform(df['class'])\r\n",
    "\r\n",
    "X = df.drop(['class', 'class_encoded'], axis=1)\r\n",
    "y = df['class_encoded']"
   ],
   "outputs": [],
   "metadata": {}
  },
  {
   "cell_type": "code",
   "execution_count": 7,
   "source": [
    "# Divide it to trainval and test splits\r\n",
    "X_trainval, X_test, y_trainval, y_test = train_test_split(X,y, stratify=y, test_size=0.3, random_state=69)\r\n",
    "\r\n",
    "\r\n",
    "# Split train into train-val\r\n",
    "X_train, X_val, y_train, y_val = train_test_split(X_trainval, y_trainval, test_size=0.1, stratify=y_trainval, random_state=21)"
   ],
   "outputs": [],
   "metadata": {}
  },
  {
   "cell_type": "code",
   "execution_count": 8,
   "source": [
    "# Scale the data\r\n",
    "scaler = StandardScaler()\r\n",
    "X_train = scaler.fit_transform(X_train)\r\n",
    "X_val = scaler.transform(X_val)\r\n",
    "X_test = scaler.transform(X_test)\r\n",
    "\r\n",
    "X_train, y_train = np.array(X_train), np.array(y_train)\r\n",
    "X_val, y_val = np.array(X_val), np.array(y_val)\r\n",
    "X_test, y_test = np.array(X_test), np.array(y_test)"
   ],
   "outputs": [],
   "metadata": {}
  },
  {
   "cell_type": "markdown",
   "source": [
    "# Neural Network Design with PyTorch"
   ],
   "metadata": {}
  },
  {
   "cell_type": "markdown",
   "source": [
    "## Creating custom datasets"
   ],
   "metadata": {}
  },
  {
   "cell_type": "code",
   "execution_count": 9,
   "source": [
    "class GestureDataset(Dataset):\r\n",
    "    def __init__(self, X_data, y_data):\r\n",
    "        self.X_data = X_data\r\n",
    "        self.y_data = y_data\r\n",
    "\r\n",
    "    def __len__(self):\r\n",
    "        return len(self.y_data)\r\n",
    "    \r\n",
    "    def __getitem__(self, index):\r\n",
    "        return self.X_data[index], self.y_data[index]"
   ],
   "outputs": [],
   "metadata": {}
  },
  {
   "cell_type": "code",
   "execution_count": 10,
   "source": [
    "train_dataset = GestureDataset(torch.from_numpy(X_train).float(), torch.from_numpy(y_train).long())\r\n",
    "val_dataset = GestureDataset(torch.from_numpy(X_val).float(), torch.from_numpy(y_val).long())\r\n",
    "test_dataset = GestureDataset(torch.from_numpy(X_test).float(), torch.from_numpy(y_test).long())"
   ],
   "outputs": [],
   "metadata": {}
  },
  {
   "cell_type": "markdown",
   "source": [
    "## Weighted Sampling"
   ],
   "metadata": {}
  },
  {
   "cell_type": "markdown",
   "source": [
    "Because there’s a class imbalance, we use stratified split to create our train, validation, and test sets.\r\n",
    "While it helps, it still does not ensure that each mini-batch of our model see’s all our classes. We need to over-sample the classes with less number of values. To do that, we use the WeightedRandomSampler."
   ],
   "metadata": {}
  },
  {
   "cell_type": "code",
   "execution_count": 11,
   "source": [
    "def get_class_distribution(obj, max_num_class):\r\n",
    "    count_dict = {}\r\n",
    "    for i in range(max_num_class+1):\r\n",
    "        count_dict[i] = 0\r\n",
    "    \r\n",
    "    for i in obj:\r\n",
    "        count_dict[i] += 1\r\n",
    "            \r\n",
    "    return count_dict"
   ],
   "outputs": [],
   "metadata": {}
  },
  {
   "cell_type": "code",
   "execution_count": 12,
   "source": [
    "target_list = []\r\n",
    "for _, t in train_dataset:\r\n",
    "    target_list.append(t)\r\n",
    "    \r\n",
    "target_list = torch.tensor(target_list)\r\n",
    "target_list = target_list[torch.randperm(len(target_list))]"
   ],
   "outputs": [],
   "metadata": {}
  },
  {
   "cell_type": "code",
   "execution_count": 13,
   "source": [
    "class_count = [i for i in get_class_distribution(y_train, int(max(target_list))).values()]\r\n",
    "class_weights = 1./torch.tensor(class_count, dtype=torch.float) \r\n",
    "print(class_weights)"
   ],
   "outputs": [
    {
     "output_type": "stream",
     "name": "stdout",
     "text": [
      "tensor([0.0010, 0.0010, 0.0009, 0.0011])\n"
     ]
    }
   ],
   "metadata": {}
  },
  {
   "cell_type": "code",
   "execution_count": 14,
   "source": [
    "class_weights_all = class_weights[target_list]\r\n",
    "weighted_sampler = WeightedRandomSampler(\r\n",
    "    weights=class_weights_all,\r\n",
    "    num_samples=len(class_weights_all),\r\n",
    "    replacement=True\r\n",
    ")"
   ],
   "outputs": [],
   "metadata": {}
  },
  {
   "cell_type": "markdown",
   "source": [
    "## Modeling"
   ],
   "metadata": {}
  },
  {
   "cell_type": "code",
   "execution_count": 15,
   "source": [
    "class GestureClassifierNet(nn.Module):\r\n",
    "    def __init__(self, num_feature, num_class):\r\n",
    "        super(GestureClassifierNet, self).__init__()\r\n",
    "        \r\n",
    "        self.layer_1 = nn.Linear(num_feature, 512)\r\n",
    "        self.layer_2 = nn.Linear(512, 128)\r\n",
    "        self.layer_3 = nn.Linear(128, 64)\r\n",
    "        self.layer_out = nn.Linear(64, num_class)\r\n",
    "\r\n",
    "        self.relu = nn.ReLU()\r\n",
    "        self.dropout = nn.Dropout(p=0.2)\r\n",
    "        self.batchnorm1 = nn.BatchNorm1d(512)\r\n",
    "        self.batchnorm2 = nn.BatchNorm1d(128)\r\n",
    "        self.batchnorm3 = nn.BatchNorm1d(64)\r\n",
    "\r\n",
    "    def forward(self, x):\r\n",
    "        x = self.layer_1(x)\r\n",
    "        x = self.batchnorm1(x)\r\n",
    "        x = self.relu(x)\r\n",
    "        \r\n",
    "        x = self.layer_2(x)\r\n",
    "        x = self.batchnorm2(x)\r\n",
    "        x = self.relu(x)\r\n",
    "        x = self.dropout(x)\r\n",
    "        \r\n",
    "        x = self.layer_3(x)\r\n",
    "        x = self.batchnorm3(x)\r\n",
    "        x = self.relu(x)\r\n",
    "        x = self.dropout(x)\r\n",
    "        \r\n",
    "        x = self.layer_out(x)\r\n",
    "        \r\n",
    "        return x\r\n",
    "        "
   ],
   "outputs": [],
   "metadata": {}
  },
  {
   "cell_type": "code",
   "execution_count": 16,
   "source": [
    "EPOCHS = 100\r\n",
    "BATCH_SIZE = 16\r\n",
    "LEARNING_RATE = 0.0007\r\n",
    "NUM_FEATURES = len(X.columns)\r\n",
    "NUM_CLASSES = max(y) + 1\r\n",
    "\r\n",
    "model = GestureClassifierNet(num_feature = NUM_FEATURES, num_class = NUM_CLASSES)\r\n",
    "\r\n",
    "train_loader = DataLoader(dataset=train_dataset,\r\n",
    "                          batch_size=BATCH_SIZE,\r\n",
    "                          sampler=weighted_sampler,\r\n",
    "                          drop_last=True\r\n",
    ")\r\n",
    "val_loader = DataLoader(dataset=val_dataset, batch_size=1)\r\n",
    "test_loader = DataLoader(dataset=test_dataset, batch_size=1)\r\n",
    "\r\n",
    "criterion = nn.CrossEntropyLoss()\r\n",
    "optimizer = optim.Adam(model.parameters(), lr=LEARNING_RATE)\r\n",
    "\r\n",
    "print(model)"
   ],
   "outputs": [
    {
     "output_type": "stream",
     "name": "stdout",
     "text": [
      "GestureClassifierNet(\n",
      "  (layer_1): Linear(in_features=63, out_features=512, bias=True)\n",
      "  (layer_2): Linear(in_features=512, out_features=128, bias=True)\n",
      "  (layer_3): Linear(in_features=128, out_features=64, bias=True)\n",
      "  (layer_out): Linear(in_features=64, out_features=4, bias=True)\n",
      "  (relu): ReLU()\n",
      "  (dropout): Dropout(p=0.2, inplace=False)\n",
      "  (batchnorm1): BatchNorm1d(512, eps=1e-05, momentum=0.1, affine=True, track_running_stats=True)\n",
      "  (batchnorm2): BatchNorm1d(128, eps=1e-05, momentum=0.1, affine=True, track_running_stats=True)\n",
      "  (batchnorm3): BatchNorm1d(64, eps=1e-05, momentum=0.1, affine=True, track_running_stats=True)\n",
      ")\n"
     ]
    }
   ],
   "metadata": {}
  },
  {
   "cell_type": "markdown",
   "source": [
    "## Training the Model"
   ],
   "metadata": {}
  },
  {
   "cell_type": "markdown",
   "source": [
    "This function takes y_pred and y_test as input arguments. We then apply log_softmax to y_pred and extract the class which has a higher probability.\r\n",
    "After that, we compare the the predicted classes and the actual classes to calculate the accuracy."
   ],
   "metadata": {}
  },
  {
   "cell_type": "code",
   "execution_count": 17,
   "source": [
    "# accuracy function\r\n",
    "def multi_acc(y_pred, y_test):\r\n",
    "    y_pred_softmax = torch.log_softmax(y_pred, dim = 1)\r\n",
    "    _, y_pred_tags = torch.max(y_pred_softmax, dim = 1)    \r\n",
    "    \r\n",
    "    correct_pred = (y_pred_tags == y_test).float()\r\n",
    "    acc = correct_pred.sum() / len(correct_pred)\r\n",
    "    \r\n",
    "    acc = torch.round(acc * 100)\r\n",
    "    \r\n",
    "    return acc"
   ],
   "outputs": [],
   "metadata": {}
  },
  {
   "cell_type": "code",
   "execution_count": 18,
   "source": [
    "accuracy_stats = {\r\n",
    "    'train': [],\r\n",
    "    \"val\": []\r\n",
    "}\r\n",
    "loss_stats = {\r\n",
    "    'train': [],\r\n",
    "    \"val\": []\r\n",
    "}"
   ],
   "outputs": [],
   "metadata": {}
  },
  {
   "cell_type": "code",
   "execution_count": 19,
   "source": [
    "# Training\r\n",
    "for e in range(EPOCHS):\r\n",
    "\r\n",
    "    train_epoch_loss = 0\r\n",
    "    train_epoch_acc = 0\r\n",
    "\r\n",
    "    # TRAINING\r\n",
    "    model.train()\r\n",
    "    for X_train_batch, y_train_batch in train_loader:\r\n",
    "        optimizer.zero_grad()\r\n",
    "        \r\n",
    "        y_train_pred = model(X_train_batch)\r\n",
    "        \r\n",
    "        train_loss = criterion(y_train_pred, y_train_batch)\r\n",
    "        train_acc = multi_acc(y_train_pred, y_train_batch)\r\n",
    "        \r\n",
    "        train_loss.backward()\r\n",
    "        optimizer.step()\r\n",
    "        \r\n",
    "        train_epoch_loss += train_loss.item()\r\n",
    "        train_epoch_acc += train_acc.item()\r\n",
    "\r\n",
    "    # VALIDATION    \r\n",
    "    with torch.no_grad():\r\n",
    "        \r\n",
    "        val_epoch_loss = 0\r\n",
    "        val_epoch_acc = 0\r\n",
    "        \r\n",
    "        model.eval()\r\n",
    "        for X_val_batch, y_val_batch in val_loader:\r\n",
    "            y_val_pred = model(X_val_batch)\r\n",
    "                        \r\n",
    "            val_loss = criterion(y_val_pred, y_val_batch)\r\n",
    "            val_acc = multi_acc(y_val_pred, y_val_batch)\r\n",
    "            \r\n",
    "            val_epoch_loss += val_loss.item()\r\n",
    "            val_epoch_acc += val_acc.item()\r\n",
    "\r\n",
    "    loss_stats['train'].append(train_epoch_loss/len(train_loader))\r\n",
    "    loss_stats['val'].append(val_epoch_loss/len(val_loader))\r\n",
    "    accuracy_stats['train'].append(train_epoch_acc/len(train_loader))\r\n",
    "    accuracy_stats['val'].append(val_epoch_acc/len(val_loader))\r\n",
    "\r\n",
    "    if e%50==0:\r\n",
    "        print(f'Epoch {e+0:03}: | Train Loss: {train_epoch_loss/len(train_loader):.5f} | Val Loss: {val_epoch_loss/len(val_loader):.5f} | Train Acc: {train_epoch_acc/len(train_loader):.3f}| Val Acc: {val_epoch_acc/len(val_loader):.3f}')"
   ],
   "outputs": [
    {
     "output_type": "stream",
     "name": "stdout",
     "text": [
      "Epoch 000: | Train Loss: 0.25237 | Val Loss: 0.02446 | Train Acc: 96.039| Val Acc: 100.000\n",
      "Epoch 050: | Train Loss: 0.00971 | Val Loss: 0.00096 | Train Acc: 99.721| Val Acc: 100.000\n"
     ]
    }
   ],
   "metadata": {}
  },
  {
   "cell_type": "code",
   "execution_count": 20,
   "source": [
    "print(f'Final: Train Loss: {train_epoch_loss/len(train_loader):.5f} | Val Loss: {val_epoch_loss/len(val_loader):.5f} | Train Acc: {train_epoch_acc/len(train_loader):.3f}| Val Acc: {val_epoch_acc/len(val_loader):.3f}')"
   ],
   "outputs": [
    {
     "output_type": "stream",
     "name": "stdout",
     "text": [
      "Final: Train Loss: 0.00035 | Val Loss: 0.00000 | Train Acc: 100.000| Val Acc: 100.000\n"
     ]
    }
   ],
   "metadata": {}
  },
  {
   "cell_type": "code",
   "execution_count": 21,
   "source": [
    "# Create dataframes\r\n",
    "train_val_acc_df = pd.DataFrame.from_dict(accuracy_stats).reset_index().melt(id_vars=['index']).rename(columns={\"index\":\"epochs\"})\r\n",
    "train_val_loss_df = pd.DataFrame.from_dict(loss_stats).reset_index().melt(id_vars=['index']).rename(columns={\"index\":\"epochs\"})\r\n",
    "# Plot the dataframes\r\n",
    "fig, axes = plt.subplots(nrows=1, ncols=2, figsize=(20,7))\r\n",
    "sns.lineplot(data=train_val_acc_df, x = \"epochs\", y=\"value\", hue=\"variable\",  ax=axes[0]).set_title('Train-Val Accuracy/Epoch')\r\n",
    "sns.lineplot(data=train_val_loss_df, x = \"epochs\", y=\"value\", hue=\"variable\", ax=axes[1]).set_title('Train-Val Loss/Epoch')"
   ],
   "outputs": [
    {
     "output_type": "execute_result",
     "data": {
      "text/plain": [
       "Text(0.5, 1.0, 'Train-Val Loss/Epoch')"
      ]
     },
     "metadata": {},
     "execution_count": 21
    },
    {
     "output_type": "display_data",
     "data": {
      "text/plain": [
       "<Figure size 1440x504 with 2 Axes>"
      ],
      "image/png": "[encoded data removed]"
     },
     "metadata": {
      "needs_background": "light"
     }
    }
   ],
   "metadata": {}
  },
  {
   "cell_type": "markdown",
   "source": [
    "## Prediction and Evaluation"
   ],
   "metadata": {}
  },
  {
   "cell_type": "code",
   "execution_count": 22,
   "source": [
    "y_pred_list = []\r\n",
    "with torch.no_grad():\r\n",
    "    test_loss=0\r\n",
    "    test_acc=0\r\n",
    "    model.eval()\r\n",
    "    for X_batch, Y_batch in test_loader:\r\n",
    "        y_test_pred = model(X_batch)\r\n",
    "        _, y_pred_tags = torch.max(y_test_pred, dim = 1)\r\n",
    "        y_pred_list.append(y_pred_tags.cpu().numpy())\r\n",
    "\r\n",
    "        test_it_loss = criterion(y_test_pred, Y_batch)\r\n",
    "        test_it_acc = multi_acc(y_test_pred, Y_batch)\r\n",
    "        \r\n",
    "        test_loss += test_it_loss.item()\r\n",
    "        test_acc += test_it_acc.item()\r\n",
    "\r\n",
    "    loss_stats['test'] = (test_loss/len(test_loader))\r\n",
    "    accuracy_stats['test'] = (test_acc/len(test_loader))\r\n",
    "        \r\n",
    "\r\n",
    "y_pred_list = [a.squeeze().tolist() for a in y_pred_list]\r\n",
    "\r\n",
    "loss_stats['test'], accuracy_stats['test']"
   ],
   "outputs": [
    {
     "output_type": "execute_result",
     "data": {
      "text/plain": [
       "(0.004992634844199868, 99.84748347737671)"
      ]
     },
     "metadata": {},
     "execution_count": 22
    }
   ],
   "metadata": {}
  },
  {
   "cell_type": "code",
   "execution_count": 23,
   "source": [
    "confusion_matrix_df = pd.DataFrame(confusion_matrix(y_test, y_pred_list))\r\n",
    "\r\n",
    "sns.heatmap(confusion_matrix_df, annot=True)"
   ],
   "outputs": [
    {
     "output_type": "execute_result",
     "data": {
      "text/plain": [
       "<AxesSubplot:>"
      ]
     },
     "metadata": {},
     "execution_count": 23
    },
    {
     "output_type": "display_data",
     "data": {
      "text/plain": [
       "<Figure size 432x288 with 2 Axes>"
      ],
      "image/png": "[encoded data removed]"
     },
     "metadata": {
      "needs_background": "light"
     }
    }
   ],
   "metadata": {}
  },
  {
   "cell_type": "code",
   "execution_count": 24,
   "source": [
    "print(classification_report(y_test, y_pred_list))"
   ],
   "outputs": [
    {
     "output_type": "stream",
     "name": "stdout",
     "text": [
      "              precision    recall  f1-score   support\n",
      "\n",
      "           0       1.00      1.00      1.00       478\n",
      "           1       1.00      1.00      1.00       501\n",
      "           2       1.00      1.00      1.00       549\n",
      "           3       1.00      1.00      1.00       439\n",
      "\n",
      "    accuracy                           1.00      1967\n",
      "   macro avg       1.00      1.00      1.00      1967\n",
      "weighted avg       1.00      1.00      1.00      1967\n",
      "\n"
     ]
    }
   ],
   "metadata": {}
  },
  {
   "cell_type": "markdown",
   "source": [
    "## Live Detection"
   ],
   "metadata": {}
  },
  {
   "cell_type": "code",
   "execution_count": 25,
   "source": [
    "mp_drawing = mp.solutions.drawing_utils # Drawing helper\r\n",
    "mp_hands = mp.solutions.hands\r\n",
    "mp_holistic = mp.solutions.holistic"
   ],
   "outputs": [],
   "metadata": {}
  },
  {
   "cell_type": "markdown",
   "source": [
    "### Holistic Model"
   ],
   "metadata": {}
  },
  {
   "cell_type": "code",
   "execution_count": 88,
   "source": [
    "import traceback\r\n",
    "cap = cv2.VideoCapture(0)\r\n",
    "# Initiate holistic model\r\n",
    "with mp_holistic.Holistic(min_detection_confidence=0.5, min_tracking_confidence=0.5) as holistic:\r\n",
    "    \r\n",
    "    while cap.isOpened():\r\n",
    "        ret, frame = cap.read()\r\n",
    "        \r\n",
    "        # Recolor Feed\r\n",
    "        image = cv2.cvtColor(frame, cv2.COLOR_BGR2RGB)\r\n",
    "        image.flags.writeable = False        \r\n",
    "        \r\n",
    "        # Make Detections\r\n",
    "        results = holistic.process(image)\r\n",
    "        # print(results.face_landmarks)\r\n",
    "        \r\n",
    "        # face_landmarks, pose_landmarks, left_hand_landmarks, right_hand_landmarks\r\n",
    "        \r\n",
    "        # Recolor image back to BGR for rendering\r\n",
    "        image.flags.writeable = True   \r\n",
    "        image = cv2.cvtColor(image, cv2.COLOR_RGB2BGR)\r\n",
    "        \r\n",
    "        # 1. Draw face landmarks\r\n",
    "        mp_drawing.draw_landmarks(image, results.face_landmarks, mp_holistic.FACE_CONNECTIONS, \r\n",
    "                                 mp_drawing.DrawingSpec(color=(80,110,10), thickness=1, circle_radius=1),\r\n",
    "                                 mp_drawing.DrawingSpec(color=(80,256,121), thickness=1, circle_radius=1)\r\n",
    "                                 )\r\n",
    "        \r\n",
    "        # 2. Right hand\r\n",
    "        mp_drawing.draw_landmarks(image, results.right_hand_landmarks, mp_holistic.HAND_CONNECTIONS, \r\n",
    "                                 mp_drawing.DrawingSpec(color=(80,22,10), thickness=2, circle_radius=4),\r\n",
    "                                 mp_drawing.DrawingSpec(color=(80,44,121), thickness=2, circle_radius=2)\r\n",
    "                                 )\r\n",
    "\r\n",
    "        # 3. Left Hand\r\n",
    "        mp_drawing.draw_landmarks(image, results.left_hand_landmarks, mp_holistic.HAND_CONNECTIONS, \r\n",
    "                                 mp_drawing.DrawingSpec(color=(121,22,76), thickness=2, circle_radius=4),\r\n",
    "                                 mp_drawing.DrawingSpec(color=(121,44,250), thickness=2, circle_radius=2)\r\n",
    "                                 )\r\n",
    "\r\n",
    "        # 4. Pose Detections\r\n",
    "        mp_drawing.draw_landmarks(image, results.pose_landmarks, mp_holistic.POSE_CONNECTIONS, \r\n",
    "                                 mp_drawing.DrawingSpec(color=(245,117,66), thickness=2, circle_radius=4),\r\n",
    "                                 mp_drawing.DrawingSpec(color=(245,66,230), thickness=2, circle_radius=2)\r\n",
    "                                 )\r\n",
    "        # Export coordinates\r\n",
    "        try:\r\n",
    "            # Extract Pose landmarks\r\n",
    "            pose = results.pose_landmarks.landmark\r\n",
    "            pose_row = list(np.array([[landmark.x, landmark.y, landmark.z, landmark.visibility] for landmark in pose]).flatten())\r\n",
    "            \r\n",
    "            # Extract Face landmarks\r\n",
    "            face = results.face_landmarks.landmark\r\n",
    "            face_row = list(np.array([[landmark.x, landmark.y, landmark.z, landmark.visibility] for landmark in face]).flatten())\r\n",
    "            \r\n",
    "            # Concate rows\r\n",
    "            row = pose_row+face_row\r\n",
    "            \r\n",
    "            # Make Detections\r\n",
    "            X = pd.DataFrame([row])\r\n",
    "            #X = scaler.fit_transform(X)\r\n",
    "            X = np.array(X)\r\n",
    "\r\n",
    "            # mylist.append(list(*X))\r\n",
    "            # if(counter %  50 == 0):\r\n",
    "            #     print('saving')\r\n",
    "            #     a = np.array(mylist)\r\n",
    "            #     np.savetxt(\"foo1.csv\", a, delimiter=\",\")\r\n",
    "            # print(counter)\r\n",
    "            X = torch.tensor(X, dtype=torch.float32)\r\n",
    "\r\n",
    "            with torch.no_grad():\r\n",
    "                model.eval()\r\n",
    "                y_test_pred = model(X)\r\n",
    "                _, y_pred_tags = torch.max(y_test_pred, dim = 1)\r\n",
    "                body_language_class = le.inverse_transform(y_pred_tags.cpu().numpy())[0]\r\n",
    "                #print(body_language_class)\r\n",
    "            \r\n",
    "            # Grab ear coords\r\n",
    "            coords = tuple(np.multiply(\r\n",
    "                            np.array(\r\n",
    "                                (results.pose_landmarks.landmark[mp_holistic.PoseLandmark.LEFT_EAR].x, \r\n",
    "                                 results.pose_landmarks.landmark[mp_holistic.PoseLandmark.LEFT_EAR].y))\r\n",
    "                        , [640,480]).astype(int))\r\n",
    "            \r\n",
    "            cv2.rectangle(image, \r\n",
    "                          (coords[0], coords[1]+5), \r\n",
    "                          (coords[0]+len(body_language_class)*20, coords[1]-30), \r\n",
    "                          (245, 117, 16), -1)\r\n",
    "            cv2.putText(image, body_language_class, coords, \r\n",
    "                        cv2.FONT_HERSHEY_SIMPLEX, 1, (255, 255, 255), 2, cv2.LINE_AA)\r\n",
    "            \r\n",
    "            # Get status box\r\n",
    "            cv2.rectangle(image, (0,0), (250, 60), (245, 117, 16), -1)\r\n",
    "            \r\n",
    "            # Display Class\r\n",
    "            cv2.putText(image, 'CLASS'\r\n",
    "                        , (95,12), cv2.FONT_HERSHEY_SIMPLEX, 0.5, (0, 0, 0), 1, cv2.LINE_AA)\r\n",
    "            cv2.putText(image, body_language_class.split(' ')[0]\r\n",
    "                        , (90,40), cv2.FONT_HERSHEY_SIMPLEX, 1, (255, 255, 255), 2, cv2.LINE_AA)\r\n",
    "            \r\n",
    "            # # Display Probability\r\n",
    "            # cv2.putText(image, 'PROB'\r\n",
    "            #             , (15,12), cv2.FONT_HERSHEY_SIMPLEX, 0.5, (0, 0, 0), 1, cv2.LINE_AA)\r\n",
    "            # cv2.putText(image, str(round(body_language_prob[np.argmax(body_language_prob)],2))\r\n",
    "            #             , (10,40), cv2.FONT_HERSHEY_SIMPLEX, 1, (255, 255, 255), 2, cv2.LINE_AA)\r\n",
    "            \r\n",
    "        except:\r\n",
    "            traceback.print_exc()\r\n",
    "                        \r\n",
    "        cv2.imshow('Raw Webcam Feed', image)\r\n",
    "\r\n",
    "        if cv2.waitKey(10) & 0xFF == ord('q'):\r\n",
    "            break\r\n",
    "\r\n",
    "cap.release()\r\n",
    "cv2.destroyAllWindows()\r\n"
   ],
   "outputs": [
    {
     "output_type": "stream",
     "name": "stderr",
     "text": [
      "Traceback (most recent call last):\n",
      "  File \"<ipython-input-88-a121c4ca6d78>\", line 49, in <module>\n",
      "    pose = results.pose_landmarks.landmark\n",
      "AttributeError: 'NoneType' object has no attribute 'landmark'\n",
      "Traceback (most recent call last):\n",
      "  File \"<ipython-input-88-a121c4ca6d78>\", line 74, in <module>\n",
      "    y_test_pred = model(X)\n",
      "  File \"C:\\Users\\Faraz Khoubsirat\\anaconda3\\lib\\site-packages\\torch\\nn\\modules\\module.py\", line 1051, in _call_impl\n",
      "    return forward_call(*input, **kwargs)\n",
      "  File \"<ipython-input-76-c378d3c34359>\", line 17, in forward\n",
      "    x = self.layer_1(x)\n",
      "  File \"C:\\Users\\Faraz Khoubsirat\\anaconda3\\lib\\site-packages\\torch\\nn\\modules\\module.py\", line 1051, in _call_impl\n",
      "    return forward_call(*input, **kwargs)\n",
      "  File \"C:\\Users\\Faraz Khoubsirat\\anaconda3\\lib\\site-packages\\torch\\nn\\modules\\linear.py\", line 96, in forward\n",
      "    return F.linear(input, self.weight, self.bias)\n",
      "  File \"C:\\Users\\Faraz Khoubsirat\\anaconda3\\lib\\site-packages\\torch\\nn\\functional.py\", line 1847, in linear\n",
      "    return torch._C._nn.linear(input, weight, bias)\n",
      "RuntimeError: mat1 and mat2 shapes cannot be multiplied (1x2004 and 63x512)\n",
      "Traceback (most recent call last):\n",
      "  File \"<ipython-input-88-a121c4ca6d78>\", line 74, in <module>\n",
      "    y_test_pred = model(X)\n",
      "  File \"C:\\Users\\Faraz Khoubsirat\\anaconda3\\lib\\site-packages\\torch\\nn\\modules\\module.py\", line 1051, in _call_impl\n",
      "    return forward_call(*input, **kwargs)\n",
      "  File \"<ipython-input-76-c378d3c34359>\", line 17, in forward\n",
      "    x = self.layer_1(x)\n",
      "  File \"C:\\Users\\Faraz Khoubsirat\\anaconda3\\lib\\site-packages\\torch\\nn\\modules\\module.py\", line 1051, in _call_impl\n",
      "    return forward_call(*input, **kwargs)\n",
      "  File \"C:\\Users\\Faraz Khoubsirat\\anaconda3\\lib\\site-packages\\torch\\nn\\modules\\linear.py\", line 96, in forward\n",
      "    return F.linear(input, self.weight, self.bias)\n",
      "  File \"C:\\Users\\Faraz Khoubsirat\\anaconda3\\lib\\site-packages\\torch\\nn\\functional.py\", line 1847, in linear\n",
      "    return torch._C._nn.linear(input, weight, bias)\n",
      "RuntimeError: mat1 and mat2 shapes cannot be multiplied (1x2004 and 63x512)\n",
      "Traceback (most recent call last):\n",
      "  File \"<ipython-input-88-a121c4ca6d78>\", line 74, in <module>\n",
      "    y_test_pred = model(X)\n",
      "  File \"C:\\Users\\Faraz Khoubsirat\\anaconda3\\lib\\site-packages\\torch\\nn\\modules\\module.py\", line 1051, in _call_impl\n",
      "    return forward_call(*input, **kwargs)\n",
      "  File \"<ipython-input-76-c378d3c34359>\", line 17, in forward\n",
      "    x = self.layer_1(x)\n",
      "  File \"C:\\Users\\Faraz Khoubsirat\\anaconda3\\lib\\site-packages\\torch\\nn\\modules\\module.py\", line 1051, in _call_impl\n",
      "    return forward_call(*input, **kwargs)\n",
      "  File \"C:\\Users\\Faraz Khoubsirat\\anaconda3\\lib\\site-packages\\torch\\nn\\modules\\linear.py\", line 96, in forward\n",
      "    return F.linear(input, self.weight, self.bias)\n",
      "  File \"C:\\Users\\Faraz Khoubsirat\\anaconda3\\lib\\site-packages\\torch\\nn\\functional.py\", line 1847, in linear\n",
      "    return torch._C._nn.linear(input, weight, bias)\n",
      "RuntimeError: mat1 and mat2 shapes cannot be multiplied (1x2004 and 63x512)\n",
      "Traceback (most recent call last):\n",
      "  File \"<ipython-input-88-a121c4ca6d78>\", line 74, in <module>\n",
      "    y_test_pred = model(X)\n",
      "  File \"C:\\Users\\Faraz Khoubsirat\\anaconda3\\lib\\site-packages\\torch\\nn\\modules\\module.py\", line 1051, in _call_impl\n",
      "    return forward_call(*input, **kwargs)\n",
      "  File \"<ipython-input-76-c378d3c34359>\", line 17, in forward\n",
      "    x = self.layer_1(x)\n",
      "  File \"C:\\Users\\Faraz Khoubsirat\\anaconda3\\lib\\site-packages\\torch\\nn\\modules\\module.py\", line 1051, in _call_impl\n",
      "    return forward_call(*input, **kwargs)\n",
      "  File \"C:\\Users\\Faraz Khoubsirat\\anaconda3\\lib\\site-packages\\torch\\nn\\modules\\linear.py\", line 96, in forward\n",
      "    return F.linear(input, self.weight, self.bias)\n",
      "  File \"C:\\Users\\Faraz Khoubsirat\\anaconda3\\lib\\site-packages\\torch\\nn\\functional.py\", line 1847, in linear\n",
      "    return torch._C._nn.linear(input, weight, bias)\n",
      "RuntimeError: mat1 and mat2 shapes cannot be multiplied (1x2004 and 63x512)\n",
      "Traceback (most recent call last):\n",
      "  File \"<ipython-input-88-a121c4ca6d78>\", line 74, in <module>\n",
      "    y_test_pred = model(X)\n",
      "  File \"C:\\Users\\Faraz Khoubsirat\\anaconda3\\lib\\site-packages\\torch\\nn\\modules\\module.py\", line 1051, in _call_impl\n",
      "    return forward_call(*input, **kwargs)\n",
      "  File \"<ipython-input-76-c378d3c34359>\", line 17, in forward\n",
      "    x = self.layer_1(x)\n",
      "  File \"C:\\Users\\Faraz Khoubsirat\\anaconda3\\lib\\site-packages\\torch\\nn\\modules\\module.py\", line 1051, in _call_impl\n",
      "    return forward_call(*input, **kwargs)\n",
      "  File \"C:\\Users\\Faraz Khoubsirat\\anaconda3\\lib\\site-packages\\torch\\nn\\modules\\linear.py\", line 96, in forward\n",
      "    return F.linear(input, self.weight, self.bias)\n",
      "  File \"C:\\Users\\Faraz Khoubsirat\\anaconda3\\lib\\site-packages\\torch\\nn\\functional.py\", line 1847, in linear\n",
      "    return torch._C._nn.linear(input, weight, bias)\n",
      "RuntimeError: mat1 and mat2 shapes cannot be multiplied (1x2004 and 63x512)\n",
      "Traceback (most recent call last):\n",
      "  File \"<ipython-input-88-a121c4ca6d78>\", line 74, in <module>\n",
      "    y_test_pred = model(X)\n",
      "  File \"C:\\Users\\Faraz Khoubsirat\\anaconda3\\lib\\site-packages\\torch\\nn\\modules\\module.py\", line 1051, in _call_impl\n",
      "    return forward_call(*input, **kwargs)\n",
      "  File \"<ipython-input-76-c378d3c34359>\", line 17, in forward\n",
      "    x = self.layer_1(x)\n",
      "  File \"C:\\Users\\Faraz Khoubsirat\\anaconda3\\lib\\site-packages\\torch\\nn\\modules\\module.py\", line 1051, in _call_impl\n",
      "    return forward_call(*input, **kwargs)\n",
      "  File \"C:\\Users\\Faraz Khoubsirat\\anaconda3\\lib\\site-packages\\torch\\nn\\modules\\linear.py\", line 96, in forward\n",
      "    return F.linear(input, self.weight, self.bias)\n",
      "  File \"C:\\Users\\Faraz Khoubsirat\\anaconda3\\lib\\site-packages\\torch\\nn\\functional.py\", line 1847, in linear\n",
      "    return torch._C._nn.linear(input, weight, bias)\n",
      "RuntimeError: mat1 and mat2 shapes cannot be multiplied (1x2004 and 63x512)\n",
      "Traceback (most recent call last):\n",
      "  File \"<ipython-input-88-a121c4ca6d78>\", line 74, in <module>\n",
      "    y_test_pred = model(X)\n",
      "  File \"C:\\Users\\Faraz Khoubsirat\\anaconda3\\lib\\site-packages\\torch\\nn\\modules\\module.py\", line 1051, in _call_impl\n",
      "    return forward_call(*input, **kwargs)\n",
      "  File \"<ipython-input-76-c378d3c34359>\", line 17, in forward\n",
      "    x = self.layer_1(x)\n",
      "  File \"C:\\Users\\Faraz Khoubsirat\\anaconda3\\lib\\site-packages\\torch\\nn\\modules\\module.py\", line 1051, in _call_impl\n",
      "    return forward_call(*input, **kwargs)\n",
      "  File \"C:\\Users\\Faraz Khoubsirat\\anaconda3\\lib\\site-packages\\torch\\nn\\modules\\linear.py\", line 96, in forward\n",
      "    return F.linear(input, self.weight, self.bias)\n",
      "  File \"C:\\Users\\Faraz Khoubsirat\\anaconda3\\lib\\site-packages\\torch\\nn\\functional.py\", line 1847, in linear\n",
      "    return torch._C._nn.linear(input, weight, bias)\n",
      "RuntimeError: mat1 and mat2 shapes cannot be multiplied (1x2004 and 63x512)\n",
      "Traceback (most recent call last):\n",
      "  File \"<ipython-input-88-a121c4ca6d78>\", line 74, in <module>\n",
      "    y_test_pred = model(X)\n",
      "  File \"C:\\Users\\Faraz Khoubsirat\\anaconda3\\lib\\site-packages\\torch\\nn\\modules\\module.py\", line 1051, in _call_impl\n",
      "    return forward_call(*input, **kwargs)\n",
      "  File \"<ipython-input-76-c378d3c34359>\", line 17, in forward\n",
      "    x = self.layer_1(x)\n",
      "  File \"C:\\Users\\Faraz Khoubsirat\\anaconda3\\lib\\site-packages\\torch\\nn\\modules\\module.py\", line 1051, in _call_impl\n",
      "    return forward_call(*input, **kwargs)\n",
      "  File \"C:\\Users\\Faraz Khoubsirat\\anaconda3\\lib\\site-packages\\torch\\nn\\modules\\linear.py\", line 96, in forward\n",
      "    return F.linear(input, self.weight, self.bias)\n",
      "  File \"C:\\Users\\Faraz Khoubsirat\\anaconda3\\lib\\site-packages\\torch\\nn\\functional.py\", line 1847, in linear\n",
      "    return torch._C._nn.linear(input, weight, bias)\n",
      "RuntimeError: mat1 and mat2 shapes cannot be multiplied (1x2004 and 63x512)\n"
     ]
    }
   ],
   "metadata": {}
  },
  {
   "cell_type": "markdown",
   "source": [
    "### Hand Model"
   ],
   "metadata": {}
  },
  {
   "cell_type": "code",
   "execution_count": 26,
   "source": [
    "import traceback\r\n",
    "\r\n",
    "cap = cv2.VideoCapture(0)\r\n",
    "# Initiate Hand model\r\n",
    "with mp_hands.Hands(max_num_hands=1) as hand:\r\n",
    "\r\n",
    "    while cap.isOpened():\r\n",
    "        ret, frame = cap.read()\r\n",
    "\r\n",
    "        # Recolor the image\r\n",
    "        image = cv2.cvtColor(frame, cv2.COLOR_BGR2RGB)\r\n",
    "        image.flags.writeable = False\r\n",
    "        # Make Detections\r\n",
    "        results = hand.process(image)\r\n",
    "\r\n",
    "        # Landmark detection\r\n",
    "        image.flags.writeable = True\r\n",
    "        image = cv2.cvtColor(image, cv2.COLOR_RGB2BGR)\r\n",
    "        \r\n",
    "        if results.multi_hand_landmarks:\r\n",
    "            for handLms in results.multi_hand_landmarks:\r\n",
    "                    mp_drawing.draw_landmarks(image, handLms, mp_hands.HAND_CONNECTIONS)\r\n",
    "\r\n",
    "        if results.multi_hand_landmarks:\r\n",
    "            # Export coordinates\r\n",
    "            try:\r\n",
    "                # Extracting hand landmarks\r\n",
    "                # Extracting pose landmark\r\n",
    "                detected_hand = results.multi_hand_landmarks[0].landmark\r\n",
    "                hand_row = list(np.array([[landmark.x, landmark.y, landmark.z] for landmark in detected_hand]).flatten())\r\n",
    "                #print(list([landmark for landmark in detected_hand]))\r\n",
    "\r\n",
    "                # Concatanate rows\r\n",
    "                row = hand_row\r\n",
    "\r\n",
    "                # Make Detections\r\n",
    "                X = pd.DataFrame([row])\r\n",
    "                #X = scaler.fit_transform(X)\r\n",
    "                X = np.array(X)\r\n",
    "\r\n",
    "                # mylist.append(list(*X))\r\n",
    "                # if(counter %  50 == 0):\r\n",
    "                #     print('saving')\r\n",
    "                #     a = np.array(mylist)\r\n",
    "                #     np.savetxt(\"foo1.csv\", a, delimiter=\",\")\r\n",
    "                # print(counter)\r\n",
    "                X = torch.tensor(X, dtype=torch.float32)\r\n",
    "\r\n",
    "                with torch.no_grad():\r\n",
    "                    model.eval()\r\n",
    "                    y_test_pred = model(X)\r\n",
    "                    _, y_pred_tags = torch.max(y_test_pred, dim = 1)\r\n",
    "                    body_language_class = le.inverse_transform(y_pred_tags.cpu().numpy())[0]\r\n",
    "\r\n",
    "                # Get status box\r\n",
    "                cv2.rectangle(image, (0,0), (250, 60), (245, 117, 16), -1)\r\n",
    "\r\n",
    "                # Display Class\r\n",
    "                cv2.putText(image, 'CLASS'\r\n",
    "                            , (95,12), cv2.FONT_HERSHEY_SIMPLEX, 0.5, (0, 0, 0), 1, cv2.LINE_AA)\r\n",
    "                cv2.putText(image, body_language_class.split(' ')[0]\r\n",
    "                            , (90,40), cv2.FONT_HERSHEY_SIMPLEX, 1, (255, 255, 255), 2, cv2.LINE_AA)\r\n",
    "                \r\n",
    "                \r\n",
    "            except:\r\n",
    "                traceback.print_exc()\r\n",
    "                            \r\n",
    "            cv2.imshow('Raw Webcam Feed', image)\r\n",
    "\r\n",
    "        if cv2.waitKey(10) & 0xFF == ord('q'):\r\n",
    "            break\r\n",
    "\r\n",
    "cap.release()\r\n",
    "cv2.destroyAllWindows()"
   ],
   "outputs": [],
   "metadata": {}
  },
  {
   "cell_type": "code",
   "execution_count": null,
   "source": [],
   "outputs": [],
   "metadata": {}
  }
 ],
 "metadata": {
  "orig_nbformat": 4,
  "language_info": {
   "name": "python",
   "version": "3.8.5",
   "mimetype": "text/x-python",
   "codemirror_mode": {
    "name": "ipython",
    "version": 3
   },
   "pygments_lexer": "ipython3",
   "nbconvert_exporter": "python",
   "file_extension": ".py"
  },
  "kernelspec": {
   "name": "python3",
   "display_name": "Python 3.8.5 64-bit ('base': conda)"
  },
  "interpreter": {
   "hash": "1df6b99b5e9756eed4e22fb0d124bf8d9f8552b372ae034d7c6b29f98bd0c98b"
  }
 },
 "nbformat": 4,
 "nbformat_minor": 2
}