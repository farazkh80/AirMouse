{
 "cells": [
  {
   "cell_type": "markdown",
   "source": [
    "# A Classification Neural Network Designed for Multiclass Pose Detection with Pytorch and Scklearn"
   ],
   "metadata": {}
  },
  {
   "cell_type": "markdown",
   "source": [
    "## In Developement"
   ],
   "metadata": {}
  },
  {
   "cell_type": "markdown",
   "source": [
    "# Preprocessing data"
   ],
   "metadata": {}
  },
  {
   "cell_type": "code",
   "execution_count": 1,
   "source": [
    "import pandas as pd\r\n",
    "import numpy as np\r\n",
    "import mediapipe as mp \r\n",
    "import cv2\r\n",
    "\r\n",
    "import torch\r\n",
    "import torch.nn as nn\r\n",
    "import torch.optim as optim\r\n",
    "from torch.utils.data import Dataset, DataLoader, WeightedRandomSampler\r\n",
    "\r\n",
    "import seaborn as sns\r\n",
    "import matplotlib.pyplot as plt\r\n",
    "\r\n",
    "\r\n",
    "from sklearn.preprocessing import StandardScaler, LabelEncoder\r\n",
    "from sklearn.model_selection import train_test_split\r\n",
    "from sklearn.metrics import classification_report"
   ],
   "outputs": [],
   "metadata": {}
  },
  {
   "cell_type": "code",
   "execution_count": 2,
   "source": [
    "class BodyLanguageDataset(Dataset):\r\n",
    "    def __init__(self, X_data, y_data):\r\n",
    "        self.X_data = X_data\r\n",
    "        self.y_data = y_data\r\n",
    "\r\n",
    "    def __len__(self):\r\n",
    "        return len(self.y)\r\n",
    "    \r\n",
    "    def __getitem__(self, index):\r\n",
    "        return self.X_data[index], self.y_data[index]"
   ],
   "outputs": [],
   "metadata": {}
  },
  {
   "cell_type": "code",
   "execution_count": 3,
   "source": [
    "# Get dataset from csv\r\n",
    "df = pd.read_csv('hands-coords.csv')\r\n",
    "df.head()"
   ],
   "outputs": [
    {
     "output_type": "execute_result",
     "data": {
      "text/plain": [
       "  class        x1        y1        z1        x2        y2        z2        x3  \\\n",
       "0  OPEN  0.343279  0.548307 -0.000015  0.480183  0.553586 -0.059083  0.558291   \n",
       "1  OPEN  0.364017  0.554621  0.000192  0.471733  0.543580 -0.073555  0.547787   \n",
       "2  OPEN  0.358206  0.585951  0.000036  0.459783  0.575050 -0.060506  0.547915   \n",
       "3  OPEN  0.359599  0.596331 -0.000015  0.461629  0.572796 -0.058555  0.553879   \n",
       "4  OPEN  0.357239  0.603311 -0.000017  0.459321  0.578482 -0.054035  0.552632   \n",
       "\n",
       "         y3        z3  ...       z18       x19       y19       z19       x20  \\\n",
       "0  0.481817 -0.077853  ... -0.077908  0.283826  0.252391 -0.143445  0.274183   \n",
       "1  0.469319 -0.110751  ... -0.097384  0.254731  0.204078 -0.135152  0.231677   \n",
       "2  0.486356 -0.087504  ... -0.088242  0.243408  0.186999 -0.127545  0.218052   \n",
       "3  0.481901 -0.090461  ... -0.096459  0.245748  0.186377 -0.135645  0.219932   \n",
       "4  0.483112 -0.080659  ... -0.091434  0.244248  0.190749 -0.132148  0.217003   \n",
       "\n",
       "        y20       z20       x21       y21       z21  \n",
       "0  0.227567 -0.193842  0.254473  0.202089 -0.235708  \n",
       "1  0.141892 -0.165021  0.203321  0.078237 -0.187139  \n",
       "2  0.116318 -0.161277  0.194355  0.049682 -0.193506  \n",
       "3  0.117786 -0.166266  0.195248  0.051467 -0.195058  \n",
       "4  0.122858 -0.162317  0.191694  0.056416 -0.190282  \n",
       "\n",
       "[5 rows x 64 columns]"
      ],
      "text/html": [
       "<div>\n",
       "<style scoped>\n",
       "    .dataframe tbody tr th:only-of-type {\n",
       "        vertical-align: middle;\n",
       "    }\n",
       "\n",
       "    .dataframe tbody tr th {\n",
       "        vertical-align: top;\n",
       "    }\n",
       "\n",
       "    .dataframe thead th {\n",
       "        text-align: right;\n",
       "    }\n",
       "</style>\n",
       "<table border=\"1\" class=\"dataframe\">\n",
       "  <thead>\n",
       "    <tr style=\"text-align: right;\">\n",
       "      <th></th>\n",
       "      <th>class</th>\n",
       "      <th>x1</th>\n",
       "      <th>y1</th>\n",
       "      <th>z1</th>\n",
       "      <th>x2</th>\n",
       "      <th>y2</th>\n",
       "      <th>z2</th>\n",
       "      <th>x3</th>\n",
       "      <th>y3</th>\n",
       "      <th>z3</th>\n",
       "      <th>...</th>\n",
       "      <th>z18</th>\n",
       "      <th>x19</th>\n",
       "      <th>y19</th>\n",
       "      <th>z19</th>\n",
       "      <th>x20</th>\n",
       "      <th>y20</th>\n",
       "      <th>z20</th>\n",
       "      <th>x21</th>\n",
       "      <th>y21</th>\n",
       "      <th>z21</th>\n",
       "    </tr>\n",
       "  </thead>\n",
       "  <tbody>\n",
       "    <tr>\n",
       "      <th>0</th>\n",
       "      <td>OPEN</td>\n",
       "      <td>0.343279</td>\n",
       "      <td>0.548307</td>\n",
       "      <td>-0.000015</td>\n",
       "      <td>0.480183</td>\n",
       "      <td>0.553586</td>\n",
       "      <td>-0.059083</td>\n",
       "      <td>0.558291</td>\n",
       "      <td>0.481817</td>\n",
       "      <td>-0.077853</td>\n",
       "      <td>...</td>\n",
       "      <td>-0.077908</td>\n",
       "      <td>0.283826</td>\n",
       "      <td>0.252391</td>\n",
       "      <td>-0.143445</td>\n",
       "      <td>0.274183</td>\n",
       "      <td>0.227567</td>\n",
       "      <td>-0.193842</td>\n",
       "      <td>0.254473</td>\n",
       "      <td>0.202089</td>\n",
       "      <td>-0.235708</td>\n",
       "    </tr>\n",
       "    <tr>\n",
       "      <th>1</th>\n",
       "      <td>OPEN</td>\n",
       "      <td>0.364017</td>\n",
       "      <td>0.554621</td>\n",
       "      <td>0.000192</td>\n",
       "      <td>0.471733</td>\n",
       "      <td>0.543580</td>\n",
       "      <td>-0.073555</td>\n",
       "      <td>0.547787</td>\n",
       "      <td>0.469319</td>\n",
       "      <td>-0.110751</td>\n",
       "      <td>...</td>\n",
       "      <td>-0.097384</td>\n",
       "      <td>0.254731</td>\n",
       "      <td>0.204078</td>\n",
       "      <td>-0.135152</td>\n",
       "      <td>0.231677</td>\n",
       "      <td>0.141892</td>\n",
       "      <td>-0.165021</td>\n",
       "      <td>0.203321</td>\n",
       "      <td>0.078237</td>\n",
       "      <td>-0.187139</td>\n",
       "    </tr>\n",
       "    <tr>\n",
       "      <th>2</th>\n",
       "      <td>OPEN</td>\n",
       "      <td>0.358206</td>\n",
       "      <td>0.585951</td>\n",
       "      <td>0.000036</td>\n",
       "      <td>0.459783</td>\n",
       "      <td>0.575050</td>\n",
       "      <td>-0.060506</td>\n",
       "      <td>0.547915</td>\n",
       "      <td>0.486356</td>\n",
       "      <td>-0.087504</td>\n",
       "      <td>...</td>\n",
       "      <td>-0.088242</td>\n",
       "      <td>0.243408</td>\n",
       "      <td>0.186999</td>\n",
       "      <td>-0.127545</td>\n",
       "      <td>0.218052</td>\n",
       "      <td>0.116318</td>\n",
       "      <td>-0.161277</td>\n",
       "      <td>0.194355</td>\n",
       "      <td>0.049682</td>\n",
       "      <td>-0.193506</td>\n",
       "    </tr>\n",
       "    <tr>\n",
       "      <th>3</th>\n",
       "      <td>OPEN</td>\n",
       "      <td>0.359599</td>\n",
       "      <td>0.596331</td>\n",
       "      <td>-0.000015</td>\n",
       "      <td>0.461629</td>\n",
       "      <td>0.572796</td>\n",
       "      <td>-0.058555</td>\n",
       "      <td>0.553879</td>\n",
       "      <td>0.481901</td>\n",
       "      <td>-0.090461</td>\n",
       "      <td>...</td>\n",
       "      <td>-0.096459</td>\n",
       "      <td>0.245748</td>\n",
       "      <td>0.186377</td>\n",
       "      <td>-0.135645</td>\n",
       "      <td>0.219932</td>\n",
       "      <td>0.117786</td>\n",
       "      <td>-0.166266</td>\n",
       "      <td>0.195248</td>\n",
       "      <td>0.051467</td>\n",
       "      <td>-0.195058</td>\n",
       "    </tr>\n",
       "    <tr>\n",
       "      <th>4</th>\n",
       "      <td>OPEN</td>\n",
       "      <td>0.357239</td>\n",
       "      <td>0.603311</td>\n",
       "      <td>-0.000017</td>\n",
       "      <td>0.459321</td>\n",
       "      <td>0.578482</td>\n",
       "      <td>-0.054035</td>\n",
       "      <td>0.552632</td>\n",
       "      <td>0.483112</td>\n",
       "      <td>-0.080659</td>\n",
       "      <td>...</td>\n",
       "      <td>-0.091434</td>\n",
       "      <td>0.244248</td>\n",
       "      <td>0.190749</td>\n",
       "      <td>-0.132148</td>\n",
       "      <td>0.217003</td>\n",
       "      <td>0.122858</td>\n",
       "      <td>-0.162317</td>\n",
       "      <td>0.191694</td>\n",
       "      <td>0.056416</td>\n",
       "      <td>-0.190282</td>\n",
       "    </tr>\n",
       "  </tbody>\n",
       "</table>\n",
       "<p>5 rows × 64 columns</p>\n",
       "</div>"
      ]
     },
     "metadata": {},
     "execution_count": 3
    }
   ],
   "metadata": {}
  },
  {
   "cell_type": "code",
   "execution_count": 4,
   "source": [
    "df.groupby(df['class']).count()"
   ],
   "outputs": [
    {
     "output_type": "execute_result",
     "data": {
      "text/plain": [
       "         x1    y1    z1    x2    y2    z2    x3    y3    z3    x4  ...   z18  \\\n",
       "class                                                              ...         \n",
       "CLOSE  1430  1430  1430  1430  1430  1430  1430  1430  1430  1430  ...  1430   \n",
       "FUCK    960   960   960   960   960   960   960   960   960   960  ...   960   \n",
       "OPEN   1793  1793  1793  1793  1793  1793  1793  1793  1793  1793  ...  1793   \n",
       "WOLF   1026  1026  1026  1026  1026  1026  1026  1026  1026  1026  ...  1026   \n",
       "\n",
       "        x19   y19   z19   x20   y20   z20   x21   y21   z21  \n",
       "class                                                        \n",
       "CLOSE  1430  1430  1430  1430  1430  1430  1430  1430  1430  \n",
       "FUCK    960   960   960   960   960   960   960   960   960  \n",
       "OPEN   1793  1793  1793  1793  1793  1793  1793  1793  1793  \n",
       "WOLF   1026  1026  1026  1026  1026  1026  1026  1026  1026  \n",
       "\n",
       "[4 rows x 63 columns]"
      ],
      "text/html": [
       "<div>\n",
       "<style scoped>\n",
       "    .dataframe tbody tr th:only-of-type {\n",
       "        vertical-align: middle;\n",
       "    }\n",
       "\n",
       "    .dataframe tbody tr th {\n",
       "        vertical-align: top;\n",
       "    }\n",
       "\n",
       "    .dataframe thead th {\n",
       "        text-align: right;\n",
       "    }\n",
       "</style>\n",
       "<table border=\"1\" class=\"dataframe\">\n",
       "  <thead>\n",
       "    <tr style=\"text-align: right;\">\n",
       "      <th></th>\n",
       "      <th>x1</th>\n",
       "      <th>y1</th>\n",
       "      <th>z1</th>\n",
       "      <th>x2</th>\n",
       "      <th>y2</th>\n",
       "      <th>z2</th>\n",
       "      <th>x3</th>\n",
       "      <th>y3</th>\n",
       "      <th>z3</th>\n",
       "      <th>x4</th>\n",
       "      <th>...</th>\n",
       "      <th>z18</th>\n",
       "      <th>x19</th>\n",
       "      <th>y19</th>\n",
       "      <th>z19</th>\n",
       "      <th>x20</th>\n",
       "      <th>y20</th>\n",
       "      <th>z20</th>\n",
       "      <th>x21</th>\n",
       "      <th>y21</th>\n",
       "      <th>z21</th>\n",
       "    </tr>\n",
       "    <tr>\n",
       "      <th>class</th>\n",
       "      <th></th>\n",
       "      <th></th>\n",
       "      <th></th>\n",
       "      <th></th>\n",
       "      <th></th>\n",
       "      <th></th>\n",
       "      <th></th>\n",
       "      <th></th>\n",
       "      <th></th>\n",
       "      <th></th>\n",
       "      <th></th>\n",
       "      <th></th>\n",
       "      <th></th>\n",
       "      <th></th>\n",
       "      <th></th>\n",
       "      <th></th>\n",
       "      <th></th>\n",
       "      <th></th>\n",
       "      <th></th>\n",
       "      <th></th>\n",
       "      <th></th>\n",
       "    </tr>\n",
       "  </thead>\n",
       "  <tbody>\n",
       "    <tr>\n",
       "      <th>CLOSE</th>\n",
       "      <td>1430</td>\n",
       "      <td>1430</td>\n",
       "      <td>1430</td>\n",
       "      <td>1430</td>\n",
       "      <td>1430</td>\n",
       "      <td>1430</td>\n",
       "      <td>1430</td>\n",
       "      <td>1430</td>\n",
       "      <td>1430</td>\n",
       "      <td>1430</td>\n",
       "      <td>...</td>\n",
       "      <td>1430</td>\n",
       "      <td>1430</td>\n",
       "      <td>1430</td>\n",
       "      <td>1430</td>\n",
       "      <td>1430</td>\n",
       "      <td>1430</td>\n",
       "      <td>1430</td>\n",
       "      <td>1430</td>\n",
       "      <td>1430</td>\n",
       "      <td>1430</td>\n",
       "    </tr>\n",
       "    <tr>\n",
       "      <th>FUCK</th>\n",
       "      <td>960</td>\n",
       "      <td>960</td>\n",
       "      <td>960</td>\n",
       "      <td>960</td>\n",
       "      <td>960</td>\n",
       "      <td>960</td>\n",
       "      <td>960</td>\n",
       "      <td>960</td>\n",
       "      <td>960</td>\n",
       "      <td>960</td>\n",
       "      <td>...</td>\n",
       "      <td>960</td>\n",
       "      <td>960</td>\n",
       "      <td>960</td>\n",
       "      <td>960</td>\n",
       "      <td>960</td>\n",
       "      <td>960</td>\n",
       "      <td>960</td>\n",
       "      <td>960</td>\n",
       "      <td>960</td>\n",
       "      <td>960</td>\n",
       "    </tr>\n",
       "    <tr>\n",
       "      <th>OPEN</th>\n",
       "      <td>1793</td>\n",
       "      <td>1793</td>\n",
       "      <td>1793</td>\n",
       "      <td>1793</td>\n",
       "      <td>1793</td>\n",
       "      <td>1793</td>\n",
       "      <td>1793</td>\n",
       "      <td>1793</td>\n",
       "      <td>1793</td>\n",
       "      <td>1793</td>\n",
       "      <td>...</td>\n",
       "      <td>1793</td>\n",
       "      <td>1793</td>\n",
       "      <td>1793</td>\n",
       "      <td>1793</td>\n",
       "      <td>1793</td>\n",
       "      <td>1793</td>\n",
       "      <td>1793</td>\n",
       "      <td>1793</td>\n",
       "      <td>1793</td>\n",
       "      <td>1793</td>\n",
       "    </tr>\n",
       "    <tr>\n",
       "      <th>WOLF</th>\n",
       "      <td>1026</td>\n",
       "      <td>1026</td>\n",
       "      <td>1026</td>\n",
       "      <td>1026</td>\n",
       "      <td>1026</td>\n",
       "      <td>1026</td>\n",
       "      <td>1026</td>\n",
       "      <td>1026</td>\n",
       "      <td>1026</td>\n",
       "      <td>1026</td>\n",
       "      <td>...</td>\n",
       "      <td>1026</td>\n",
       "      <td>1026</td>\n",
       "      <td>1026</td>\n",
       "      <td>1026</td>\n",
       "      <td>1026</td>\n",
       "      <td>1026</td>\n",
       "      <td>1026</td>\n",
       "      <td>1026</td>\n",
       "      <td>1026</td>\n",
       "      <td>1026</td>\n",
       "    </tr>\n",
       "  </tbody>\n",
       "</table>\n",
       "<p>4 rows × 63 columns</p>\n",
       "</div>"
      ]
     },
     "metadata": {},
     "execution_count": 4
    }
   ],
   "metadata": {}
  },
  {
   "cell_type": "code",
   "execution_count": 5,
   "source": [
    "# Hand Model Visualization\r\n",
    "df_pivot_x = pd.pivot_table(\r\n",
    "    df, \r\n",
    "    values=[\"x4\", \"x8\", \"x12\", \"x16\", \"x20\"],\r\n",
    "    index=\"class\", \r\n",
    "    aggfunc=np.mean\r\n",
    ")\r\n",
    "df_pivot_y = pd.pivot_table(\r\n",
    "    df, \r\n",
    "    values=[\"y4\", \"y8\", \"y12\", \"y16\", \"y20\"],\r\n",
    "    index=\"class\", \r\n",
    "    aggfunc=np.mean\r\n",
    ")\r\n",
    "plt.figure(figsize=(10,10))\r\n",
    "df_pivot_x.plot(kind=\"bar\", title=\"X axis\")\r\n",
    "df_pivot_y.plot(kind=\"bar\", title=\"Y axis\")\r\n",
    "\r\n"
   ],
   "outputs": [
    {
     "output_type": "execute_result",
     "data": {
      "text/plain": [
       "<AxesSubplot:title={'center':'Y axis'}, xlabel='class'>"
      ]
     },
     "metadata": {},
     "execution_count": 5
    },
    {
     "output_type": "display_data",
     "data": {
      "text/plain": [
       "<Figure size 720x720 with 0 Axes>"
      ]
     },
     "metadata": {}
    },
    {
     "output_type": "display_data",
     "data": {
      "text/plain": [
       "<Figure size 432x288 with 1 Axes>"
      ],
      "image/png": "[encoded data removed]"
     },
     "metadata": {
      "needs_background": "light"
     }
    },
    {
     "output_type": "display_data",
     "data": {
      "text/plain": [
       "<Figure size 432x288 with 1 Axes>"
      ],
      "image/png": "[encoded data removed]"
     },
     "metadata": {
      "needs_background": "light"
     }
    }
   ],
   "metadata": {}
  },
  {
   "cell_type": "code",
   "execution_count": 6,
   "source": [
    "# Encode the class\r\n",
    "le = LabelEncoder()\r\n",
    "le.fit(df['class'])\r\n",
    "df['class_encoded'] = le.transform(df['class'])\r\n",
    "\r\n",
    "X = df.drop(['class', 'class_encoded'], axis=1)\r\n",
    "y = df['class_encoded']"
   ],
   "outputs": [],
   "metadata": {}
  },
  {
   "cell_type": "code",
   "execution_count": 7,
   "source": [
    "# Divide it to train and test splits\r\n",
    "X_train, X_test, y_train, y_test = train_test_split(X,y, test_size=0.3, random_state=1234)\r\n",
    "X_train.shape, X_test.shape"
   ],
   "outputs": [
    {
     "output_type": "execute_result",
     "data": {
      "text/plain": [
       "((3646, 63), (1563, 63))"
      ]
     },
     "metadata": {},
     "execution_count": 7
    }
   ],
   "metadata": {}
  },
  {
   "cell_type": "code",
   "execution_count": 8,
   "source": [
    "# Scale the data\r\n",
    "scaler = StandardScaler()\r\n",
    "X_train = scaler.fit_transform(X_train)\r\n",
    "X_test = scaler.transform(X_test)\r\n",
    "\r\n",
    "X_train, y_train = np.array(X_train), np.array(y_train)\r\n",
    "X_test, y_test = np.array(X_test), np.array(y_test)"
   ],
   "outputs": [],
   "metadata": {}
  },
  {
   "cell_type": "markdown",
   "source": [
    "# Neural Network Design with PyTorch"
   ],
   "metadata": {}
  },
  {
   "cell_type": "markdown",
   "source": [
    "## Creating train and test datasets"
   ],
   "metadata": {}
  },
  {
   "cell_type": "code",
   "execution_count": 36,
   "source": [
    "class BodyLanguageDataset(Dataset):\r\n",
    "    def __init__(self, X_data, y_data):\r\n",
    "        self.X_data = X_data\r\n",
    "        self.y_data = y_data\r\n",
    "\r\n",
    "    def __len__(self):\r\n",
    "        return len(self.y_data)\r\n",
    "    \r\n",
    "    def __getitem__(self, index):\r\n",
    "        return self.X_data[index], self.y_data[index]"
   ],
   "outputs": [],
   "metadata": {}
  },
  {
   "cell_type": "code",
   "execution_count": 37,
   "source": [
    "train_dataset = BodyLanguageDataset(torch.from_numpy(X_train).float(), torch.from_numpy(y_train).long())\r\n",
    "test_dataset = BodyLanguageDataset(torch.from_numpy(X_test).float(), torch.from_numpy(y_test).long())"
   ],
   "outputs": [],
   "metadata": {}
  },
  {
   "cell_type": "markdown",
   "source": [
    "## Modeling"
   ],
   "metadata": {}
  },
  {
   "cell_type": "code",
   "execution_count": 38,
   "source": [
    "class BodyLanguageClassification(nn.Module):\r\n",
    "    def __init__(self, num_feature, num_class):\r\n",
    "        super(BodyLanguageClassification, self).__init__()\r\n",
    "        \r\n",
    "        self.layer_1 = nn.Linear(num_feature, 512)\r\n",
    "        self.layer_2 = nn.Linear(512, 128)\r\n",
    "        self.layer_3 = nn.Linear(128, 64)\r\n",
    "        self.layer_out = nn.Linear(64, num_class)\r\n",
    "\r\n",
    "        self.relu = nn.ReLU()\r\n",
    "        self.dropout = nn.Dropout(p=0.2)\r\n",
    "        self.batchnorm1 = nn.BatchNorm1d(512)\r\n",
    "        self.batchnorm2 = nn.BatchNorm1d(128)\r\n",
    "        self.batchnorm3 = nn.BatchNorm1d(64)\r\n",
    "\r\n",
    "    def forward(self, x):\r\n",
    "        x = self.layer_1(x)\r\n",
    "        x = self.batchnorm1(x)\r\n",
    "        x = self.relu(x)\r\n",
    "        \r\n",
    "        x = self.layer_2(x)\r\n",
    "        x = self.batchnorm2(x)\r\n",
    "        x = self.relu(x)\r\n",
    "        x = self.dropout(x)\r\n",
    "        \r\n",
    "        x = self.layer_3(x)\r\n",
    "        x = self.batchnorm3(x)\r\n",
    "        x = self.relu(x)\r\n",
    "        x = self.dropout(x)\r\n",
    "        \r\n",
    "        x = self.layer_out(x)\r\n",
    "        \r\n",
    "        return x\r\n",
    "        "
   ],
   "outputs": [],
   "metadata": {}
  },
  {
   "cell_type": "code",
   "execution_count": 39,
   "source": [
    "EPOCHS = 100\r\n",
    "BATCH_SIZE = 16\r\n",
    "LEARNING_RATE = 0.0007\r\n",
    "NUM_FEATURES = len(X.columns)\r\n",
    "NUM_CLASSES = max(y) + 1\r\n",
    "\r\n",
    "model = BodyLanguageClassification(num_feature = NUM_FEATURES, num_class = NUM_CLASSES)\r\n",
    "\r\n",
    "train_loader = DataLoader(dataset=train_dataset,\r\n",
    "                          batch_size=BATCH_SIZE\r\n",
    ")\r\n",
    "test_loader = DataLoader(dataset=test_dataset, batch_size=1)\r\n",
    "\r\n",
    "criterion = nn.CrossEntropyLoss()\r\n",
    "optimizer = optim.Adam(model.parameters(), lr=LEARNING_RATE)\r\n",
    "\r\n",
    "print(model)"
   ],
   "outputs": [
    {
     "output_type": "stream",
     "name": "stdout",
     "text": [
      "BodyLanguageClassification(\n",
      "  (layer_1): Linear(in_features=63, out_features=512, bias=True)\n",
      "  (layer_2): Linear(in_features=512, out_features=128, bias=True)\n",
      "  (layer_3): Linear(in_features=128, out_features=64, bias=True)\n",
      "  (layer_out): Linear(in_features=64, out_features=4, bias=True)\n",
      "  (relu): ReLU()\n",
      "  (dropout): Dropout(p=0.2, inplace=False)\n",
      "  (batchnorm1): BatchNorm1d(512, eps=1e-05, momentum=0.1, affine=True, track_running_stats=True)\n",
      "  (batchnorm2): BatchNorm1d(128, eps=1e-05, momentum=0.1, affine=True, track_running_stats=True)\n",
      "  (batchnorm3): BatchNorm1d(64, eps=1e-05, momentum=0.1, affine=True, track_running_stats=True)\n",
      ")\n"
     ]
    }
   ],
   "metadata": {}
  },
  {
   "cell_type": "markdown",
   "source": [
    "## Training the Model"
   ],
   "metadata": {}
  },
  {
   "cell_type": "code",
   "execution_count": 40,
   "source": [
    "# accuracy function\r\n",
    "def multi_acc(y_pred, y_test):\r\n",
    "    y_pred_softmax = torch.log_softmax(y_pred, dim = 1)\r\n",
    "    _, y_pred_tags = torch.max(y_pred_softmax, dim = 1)    \r\n",
    "    \r\n",
    "    correct_pred = (y_pred_tags == y_test).float()\r\n",
    "    acc = correct_pred.sum() / len(correct_pred)\r\n",
    "    \r\n",
    "    acc = torch.round(acc * 100)\r\n",
    "    \r\n",
    "    return acc"
   ],
   "outputs": [],
   "metadata": {}
  },
  {
   "cell_type": "code",
   "execution_count": 41,
   "source": [
    "# storage of stats\r\n",
    "accuracy_stats = {\r\n",
    "    'train': []\r\n",
    "}\r\n",
    "loss_stats = {\r\n",
    "    'train': []\r\n",
    "}"
   ],
   "outputs": [],
   "metadata": {}
  },
  {
   "cell_type": "code",
   "execution_count": 42,
   "source": [
    "# Training\r\n",
    "for e in range(EPOCHS):\r\n",
    "\r\n",
    "    train_epoch_loss = 0\r\n",
    "    train_epoch_acc = 0\r\n",
    "\r\n",
    "    model.train()\r\n",
    "    for X_train_batch, y_train_batch in train_loader:\r\n",
    "        optimizer.zero_grad()\r\n",
    "        \r\n",
    "        y_train_pred = model(X_train_batch)\r\n",
    "        \r\n",
    "        train_loss = criterion(y_train_pred, y_train_batch)\r\n",
    "        train_acc = multi_acc(y_train_pred, y_train_batch)\r\n",
    "        \r\n",
    "        train_loss.backward()\r\n",
    "        optimizer.step()\r\n",
    "        \r\n",
    "        train_epoch_loss += train_loss.item()\r\n",
    "        train_epoch_acc += train_acc.item()\r\n",
    "\r\n",
    "    loss_stats['train'].append(train_epoch_loss/len(train_loader))\r\n",
    "    accuracy_stats['train'].append(train_epoch_acc/len(train_loader))\r\n",
    "\r\n",
    "    if e%10==0:\r\n",
    "        print(f'Epoch {e}: | Train Loss: {train_epoch_loss/len(train_loader):.5f} | Train Acc: {train_epoch_acc/len(train_loader):.3f}')"
   ],
   "outputs": [
    {
     "output_type": "stream",
     "name": "stdout",
     "text": [
      "Epoch 0: | Train Loss: 0.22804 | Train Acc: 96.285\n",
      "Epoch 10: | Train Loss: 0.00185 | Train Acc: 100.000\n",
      "Epoch 20: | Train Loss: 0.00785 | Train Acc: 99.785\n",
      "Epoch 30: | Train Loss: 0.00037 | Train Acc: 100.000\n",
      "Epoch 40: | Train Loss: 0.00009 | Train Acc: 100.000\n",
      "Epoch 50: | Train Loss: 0.00059 | Train Acc: 100.000\n",
      "Epoch 60: | Train Loss: 0.00387 | Train Acc: 99.842\n",
      "Epoch 70: | Train Loss: 0.00011 | Train Acc: 100.000\n",
      "Epoch 80: | Train Loss: 0.01844 | Train Acc: 99.711\n",
      "Epoch 90: | Train Loss: 0.00007 | Train Acc: 100.000\n"
     ]
    }
   ],
   "metadata": {}
  },
  {
   "cell_type": "code",
   "execution_count": 43,
   "source": [
    "# Create dataframes\r\n",
    "train_val_acc_df = pd.DataFrame.from_dict(accuracy_stats['train']).reset_index().melt(id_vars=['index']).rename(columns={\"index\":\"epochs\"})\r\n",
    "train_val_loss_df = pd.DataFrame.from_dict(loss_stats['train']).reset_index().melt(id_vars=['index']).rename(columns={\"index\":\"epochs\"})\r\n",
    "# Plot the dataframes\r\n",
    "fig, axes = plt.subplots(nrows=1, ncols=2, figsize=(20,7))\r\n",
    "sns.lineplot(data=train_val_acc_df, x = \"epochs\", y=\"value\", hue=\"variable\",  ax=axes[0]).set_title('Train-Val Accuracy/Epoch')\r\n",
    "sns.lineplot(data=train_val_loss_df, x = \"epochs\", y=\"value\", hue=\"variable\", ax=axes[1]).set_title('Train-Val Loss/Epoch')"
   ],
   "outputs": [
    {
     "output_type": "execute_result",
     "data": {
      "text/plain": [
       "Text(0.5, 1.0, 'Train-Val Loss/Epoch')"
      ]
     },
     "metadata": {},
     "execution_count": 43
    },
    {
     "output_type": "display_data",
     "data": {
      "text/plain": [
       "<Figure size 1440x504 with 2 Axes>"
      ],
      "image/png": "[encoded data removed]"
     },
     "metadata": {
      "needs_background": "light"
     }
    }
   ],
   "metadata": {}
  },
  {
   "cell_type": "markdown",
   "source": [
    "## Prediction and Evaluation"
   ],
   "metadata": {}
  },
  {
   "cell_type": "code",
   "execution_count": 44,
   "source": [
    "y_pred_list = []\r\n",
    "with torch.no_grad():\r\n",
    "    test_loss=0\r\n",
    "    test_acc=0\r\n",
    "    model.eval()\r\n",
    "    for X_batch, Y_batch in test_loader:\r\n",
    "        y_test_pred = model(X_batch)\r\n",
    "        _, y_pred_tags = torch.max(y_test_pred, dim = 1)\r\n",
    "        y_pred_list.append(y_pred_tags.cpu().numpy())\r\n",
    "\r\n",
    "        test_it_loss = criterion(y_test_pred, Y_batch)\r\n",
    "        test_it_acc = multi_acc(y_test_pred, Y_batch)\r\n",
    "        \r\n",
    "        test_loss += test_it_loss.item()\r\n",
    "        test_acc += test_it_acc.item()\r\n",
    "\r\n",
    "    loss_stats['test'] = (test_loss/len(test_loader))\r\n",
    "    accuracy_stats['test'] = (test_acc/len(test_loader))\r\n",
    "        \r\n",
    "\r\n",
    "y_pred_list = [a.squeeze().tolist() for a in y_pred_list]\r\n",
    "\r\n",
    "loss_stats['test'], accuracy_stats['test']"
   ],
   "outputs": [
    {
     "output_type": "execute_result",
     "data": {
      "text/plain": [
       "(0.011906760523006609, 99.8080614203455)"
      ]
     },
     "metadata": {},
     "execution_count": 44
    }
   ],
   "metadata": {}
  },
  {
   "cell_type": "code",
   "execution_count": 45,
   "source": [
    "print(classification_report(y_test, y_pred_list))"
   ],
   "outputs": [
    {
     "output_type": "stream",
     "name": "stdout",
     "text": [
      "              precision    recall  f1-score   support\n",
      "\n",
      "           0       1.00      1.00      1.00       436\n",
      "           1       0.99      1.00      0.99       295\n",
      "           2       1.00      1.00      1.00       554\n",
      "           3       1.00      1.00      1.00       278\n",
      "\n",
      "    accuracy                           1.00      1563\n",
      "   macro avg       1.00      1.00      1.00      1563\n",
      "weighted avg       1.00      1.00      1.00      1563\n",
      "\n"
     ]
    }
   ],
   "metadata": {}
  },
  {
   "cell_type": "markdown",
   "source": [
    "## Live Detection"
   ],
   "metadata": {}
  },
  {
   "cell_type": "code",
   "execution_count": 46,
   "source": [
    "mp_drawing = mp.solutions.drawing_utils # Drawing helper\r\n",
    "mp_hands = mp.solutions.hands\r\n",
    "mp_holistic = mp.solutions.holistic"
   ],
   "outputs": [],
   "metadata": {}
  },
  {
   "cell_type": "markdown",
   "source": [
    "### Holistic Model"
   ],
   "metadata": {}
  },
  {
   "cell_type": "code",
   "execution_count": null,
   "source": [
    "import traceback\r\n",
    "cap = cv2.VideoCapture(0)\r\n",
    "# Initiate holistic model\r\n",
    "with mp_holistic.Holistic(min_detection_confidence=0.5, min_tracking_confidence=0.5) as holistic:\r\n",
    "    \r\n",
    "    while cap.isOpened():\r\n",
    "        ret, frame = cap.read()\r\n",
    "        \r\n",
    "        # Recolor Feed\r\n",
    "        image = cv2.cvtColor(frame, cv2.COLOR_BGR2RGB)\r\n",
    "        image.flags.writeable = False        \r\n",
    "        \r\n",
    "        # Make Detections\r\n",
    "        results = holistic.process(image)\r\n",
    "        # print(results.face_landmarks)\r\n",
    "        \r\n",
    "        # face_landmarks, pose_landmarks, left_hand_landmarks, right_hand_landmarks\r\n",
    "        \r\n",
    "        # Recolor image back to BGR for rendering\r\n",
    "        image.flags.writeable = True   \r\n",
    "        image = cv2.cvtColor(image, cv2.COLOR_RGB2BGR)\r\n",
    "        \r\n",
    "        # 1. Draw face landmarks\r\n",
    "        mp_drawing.draw_landmarks(image, results.face_landmarks, mp_holistic.FACE_CONNECTIONS, \r\n",
    "                                 mp_drawing.DrawingSpec(color=(80,110,10), thickness=1, circle_radius=1),\r\n",
    "                                 mp_drawing.DrawingSpec(color=(80,256,121), thickness=1, circle_radius=1)\r\n",
    "                                 )\r\n",
    "        \r\n",
    "        # 2. Right hand\r\n",
    "        mp_drawing.draw_landmarks(image, results.right_hand_landmarks, mp_holistic.HAND_CONNECTIONS, \r\n",
    "                                 mp_drawing.DrawingSpec(color=(80,22,10), thickness=2, circle_radius=4),\r\n",
    "                                 mp_drawing.DrawingSpec(color=(80,44,121), thickness=2, circle_radius=2)\r\n",
    "                                 )\r\n",
    "\r\n",
    "        # 3. Left Hand\r\n",
    "        mp_drawing.draw_landmarks(image, results.left_hand_landmarks, mp_holistic.HAND_CONNECTIONS, \r\n",
    "                                 mp_drawing.DrawingSpec(color=(121,22,76), thickness=2, circle_radius=4),\r\n",
    "                                 mp_drawing.DrawingSpec(color=(121,44,250), thickness=2, circle_radius=2)\r\n",
    "                                 )\r\n",
    "\r\n",
    "        # 4. Pose Detections\r\n",
    "        mp_drawing.draw_landmarks(image, results.pose_landmarks, mp_holistic.POSE_CONNECTIONS, \r\n",
    "                                 mp_drawing.DrawingSpec(color=(245,117,66), thickness=2, circle_radius=4),\r\n",
    "                                 mp_drawing.DrawingSpec(color=(245,66,230), thickness=2, circle_radius=2)\r\n",
    "                                 )\r\n",
    "        # Export coordinates\r\n",
    "        try:\r\n",
    "            # Extract Pose landmarks\r\n",
    "            pose = results.pose_landmarks.landmark\r\n",
    "            pose_row = list(np.array([[landmark.x, landmark.y, landmark.z, landmark.visibility] for landmark in pose]).flatten())\r\n",
    "            \r\n",
    "            # Extract Face landmarks\r\n",
    "            face = results.face_landmarks.landmark\r\n",
    "            face_row = list(np.array([[landmark.x, landmark.y, landmark.z, landmark.visibility] for landmark in face]).flatten())\r\n",
    "            \r\n",
    "            # Concate rows\r\n",
    "            row = pose_row+face_row\r\n",
    "            \r\n",
    "            # Make Detections\r\n",
    "            X = pd.DataFrame([row])\r\n",
    "            #X = scaler.fit_transform(X)\r\n",
    "            X = np.array(X)\r\n",
    "\r\n",
    "            # mylist.append(list(*X))\r\n",
    "            # if(counter %  50 == 0):\r\n",
    "            #     print('saving')\r\n",
    "            #     a = np.array(mylist)\r\n",
    "            #     np.savetxt(\"foo1.csv\", a, delimiter=\",\")\r\n",
    "            # print(counter)\r\n",
    "            X = torch.tensor(X, dtype=torch.float32)\r\n",
    "\r\n",
    "            with torch.no_grad():\r\n",
    "                model.eval()\r\n",
    "                y_test_pred = model(X)\r\n",
    "                _, y_pred_tags = torch.max(y_test_pred, dim = 1)\r\n",
    "                body_language_class = le.inverse_transform(y_pred_tags.cpu().numpy())[0]\r\n",
    "                #print(body_language_class)\r\n",
    "            \r\n",
    "            # Grab ear coords\r\n",
    "            coords = tuple(np.multiply(\r\n",
    "                            np.array(\r\n",
    "                                (results.pose_landmarks.landmark[mp_holistic.PoseLandmark.LEFT_EAR].x, \r\n",
    "                                 results.pose_landmarks.landmark[mp_holistic.PoseLandmark.LEFT_EAR].y))\r\n",
    "                        , [640,480]).astype(int))\r\n",
    "            \r\n",
    "            cv2.rectangle(image, \r\n",
    "                          (coords[0], coords[1]+5), \r\n",
    "                          (coords[0]+len(body_language_class)*20, coords[1]-30), \r\n",
    "                          (245, 117, 16), -1)\r\n",
    "            cv2.putText(image, body_language_class, coords, \r\n",
    "                        cv2.FONT_HERSHEY_SIMPLEX, 1, (255, 255, 255), 2, cv2.LINE_AA)\r\n",
    "            \r\n",
    "            # Get status box\r\n",
    "            cv2.rectangle(image, (0,0), (250, 60), (245, 117, 16), -1)\r\n",
    "            \r\n",
    "            # Display Class\r\n",
    "            cv2.putText(image, 'CLASS'\r\n",
    "                        , (95,12), cv2.FONT_HERSHEY_SIMPLEX, 0.5, (0, 0, 0), 1, cv2.LINE_AA)\r\n",
    "            cv2.putText(image, body_language_class.split(' ')[0]\r\n",
    "                        , (90,40), cv2.FONT_HERSHEY_SIMPLEX, 1, (255, 255, 255), 2, cv2.LINE_AA)\r\n",
    "            \r\n",
    "            # # Display Probability\r\n",
    "            # cv2.putText(image, 'PROB'\r\n",
    "            #             , (15,12), cv2.FONT_HERSHEY_SIMPLEX, 0.5, (0, 0, 0), 1, cv2.LINE_AA)\r\n",
    "            # cv2.putText(image, str(round(body_language_prob[np.argmax(body_language_prob)],2))\r\n",
    "            #             , (10,40), cv2.FONT_HERSHEY_SIMPLEX, 1, (255, 255, 255), 2, cv2.LINE_AA)\r\n",
    "            \r\n",
    "        except:\r\n",
    "            traceback.print_exc()\r\n",
    "                        \r\n",
    "        cv2.imshow('Raw Webcam Feed', image)\r\n",
    "\r\n",
    "        if cv2.waitKey(10) & 0xFF == ord('q'):\r\n",
    "            break\r\n",
    "\r\n",
    "cap.release()\r\n",
    "cv2.destroyAllWindows()\r\n"
   ],
   "outputs": [],
   "metadata": {}
  },
  {
   "cell_type": "markdown",
   "source": [
    "### Hand Model"
   ],
   "metadata": {}
  },
  {
   "cell_type": "code",
   "execution_count": 47,
   "source": [
    "import traceback\r\n",
    "\r\n",
    "cap = cv2.VideoCapture(0)\r\n",
    "# Initiate Hand model\r\n",
    "with mp_hands.Hands(max_num_hands=1) as hand:\r\n",
    "\r\n",
    "    while cap.isOpened():\r\n",
    "        ret, frame = cap.read()\r\n",
    "\r\n",
    "        # Recolor the image\r\n",
    "        image = cv2.cvtColor(frame, cv2.COLOR_BGR2RGB)\r\n",
    "        image.flags.writeable = False\r\n",
    "        # Make Detections\r\n",
    "        results = hand.process(image)\r\n",
    "\r\n",
    "        # Landmark detection\r\n",
    "        image.flags.writeable = True\r\n",
    "        image = cv2.cvtColor(image, cv2.COLOR_RGB2BGR)\r\n",
    "        \r\n",
    "        if results.multi_hand_landmarks:\r\n",
    "            for handLms in results.multi_hand_landmarks:\r\n",
    "                    mp_drawing.draw_landmarks(image, handLms, mp_hands.HAND_CONNECTIONS)\r\n",
    "\r\n",
    "        if results.multi_hand_landmarks:\r\n",
    "            # Export coordinates\r\n",
    "            try:\r\n",
    "                # Extracting hand landmarks\r\n",
    "                # Extracting pose landmark\r\n",
    "                detected_hand = results.multi_hand_landmarks[0].landmark\r\n",
    "                hand_row = list(np.array([[landmark.x, landmark.y, landmark.z] for landmark in detected_hand]).flatten())\r\n",
    "                #print(list([landmark for landmark in detected_hand]))\r\n",
    "\r\n",
    "                # Concatanate rows\r\n",
    "                row = hand_row\r\n",
    "\r\n",
    "                # Make Detections\r\n",
    "                X = pd.DataFrame([row])\r\n",
    "                #X = scaler.fit_transform(X)\r\n",
    "                X = np.array(X)\r\n",
    "\r\n",
    "                # mylist.append(list(*X))\r\n",
    "                # if(counter %  50 == 0):\r\n",
    "                #     print('saving')\r\n",
    "                #     a = np.array(mylist)\r\n",
    "                #     np.savetxt(\"foo1.csv\", a, delimiter=\",\")\r\n",
    "                # print(counter)\r\n",
    "                X = torch.tensor(X, dtype=torch.float32)\r\n",
    "\r\n",
    "                with torch.no_grad():\r\n",
    "                    model.eval()\r\n",
    "                    y_test_pred = model(X)\r\n",
    "                    _, y_pred_tags = torch.max(y_test_pred, dim = 1)\r\n",
    "                    body_language_class = le.inverse_transform(y_pred_tags.cpu().numpy())[0]\r\n",
    "\r\n",
    "                # Get status box\r\n",
    "                cv2.rectangle(image, (0,0), (250, 60), (245, 117, 16), -1)\r\n",
    "\r\n",
    "                # Display Class\r\n",
    "                cv2.putText(image, 'CLASS'\r\n",
    "                            , (95,12), cv2.FONT_HERSHEY_SIMPLEX, 0.5, (0, 0, 0), 1, cv2.LINE_AA)\r\n",
    "                cv2.putText(image, body_language_class.split(' ')[0]\r\n",
    "                            , (90,40), cv2.FONT_HERSHEY_SIMPLEX, 1, (255, 255, 255), 2, cv2.LINE_AA)\r\n",
    "                \r\n",
    "                \r\n",
    "            except:\r\n",
    "                traceback.print_exc()\r\n",
    "                            \r\n",
    "            cv2.imshow('Raw Webcam Feed', image)\r\n",
    "\r\n",
    "        if cv2.waitKey(10) & 0xFF == ord('q'):\r\n",
    "            break\r\n",
    "\r\n",
    "cap.release()\r\n",
    "cv2.destroyAllWindows()"
   ],
   "outputs": [],
   "metadata": {}
  }
 ],
 "metadata": {
  "orig_nbformat": 4,
  "language_info": {
   "name": "python",
   "version": "3.8.5",
   "mimetype": "text/x-python",
   "codemirror_mode": {
    "name": "ipython",
    "version": 3
   },
   "pygments_lexer": "ipython3",
   "nbconvert_exporter": "python",
   "file_extension": ".py"
  },
  "kernelspec": {
   "name": "python3",
   "display_name": "Python 3.8.5 64-bit ('base': conda)"
  },
  "interpreter": {
   "hash": "1df6b99b5e9756eed4e22fb0d124bf8d9f8552b372ae034d7c6b29f98bd0c98b"
  }
 },
 "nbformat": 4,
 "nbformat_minor": 2
}