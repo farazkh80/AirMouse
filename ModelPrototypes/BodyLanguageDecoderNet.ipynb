{
 "cells": [
  {
   "cell_type": "markdown",
   "source": [
    "# A Classification Neural Network Designed for Multiclass Pose Detection with Pytorch and Scklearn"
   ],
   "metadata": {}
  },
  {
   "cell_type": "markdown",
   "source": [
    "# Preprocessing data"
   ],
   "metadata": {}
  },
  {
   "cell_type": "code",
   "execution_count": 78,
   "source": [
    "import pandas as pd\r\n",
    "import numpy as np\r\n",
    "import mediapipe as mp \r\n",
    "import cv2\r\n",
    "\r\n",
    "import torch\r\n",
    "import torch.nn as nn\r\n",
    "import torch.optim as optim\r\n",
    "from torch.utils.data import Dataset, DataLoader, WeightedRandomSampler\r\n",
    "\r\n",
    "import seaborn as sns\r\n",
    "import matplotlib.pyplot as plt\r\n",
    "\r\n",
    "\r\n",
    "from sklearn.preprocessing import StandardScaler, LabelEncoder\r\n",
    "from sklearn.model_selection import train_test_split\r\n",
    "from sklearn.metrics import classification_report"
   ],
   "outputs": [],
   "metadata": {}
  },
  {
   "cell_type": "code",
   "execution_count": 79,
   "source": [
    "class BodyLanguageDataset(Dataset):\r\n",
    "    def __init__(self, X_data, y_data):\r\n",
    "        self.X_data = X_data\r\n",
    "        self.y_data = y_data\r\n",
    "\r\n",
    "    def __len__(self):\r\n",
    "        return len(self.y)\r\n",
    "    \r\n",
    "    def __getitem__(self, index):\r\n",
    "        return self.X_data[index], self.y_data[index]"
   ],
   "outputs": [],
   "metadata": {}
  },
  {
   "cell_type": "code",
   "execution_count": 80,
   "source": [
    "# Get dataset from csv\r\n",
    "df = pd.read_csv('coords.csv')\r\n",
    "\r\n",
    "# Encode the class\r\n",
    "le = LabelEncoder()\r\n",
    "le.fit(df['class'])\r\n",
    "df['class_encoded'] = le.transform(df['class'])\r\n",
    "\r\n",
    "X = df.drop(['class', 'class_encoded'], axis=1)\r\n",
    "y = df['class_encoded']"
   ],
   "outputs": [],
   "metadata": {}
  },
  {
   "cell_type": "code",
   "execution_count": 81,
   "source": [
    "# Divide it to train and test splits\r\n",
    "X_train, X_test, y_train, y_test = train_test_split(X,y, test_size=0.3, random_state=1234)\r\n",
    "X_train.shape, X_test.shape"
   ],
   "outputs": [
    {
     "output_type": "execute_result",
     "data": {
      "text/plain": [
       "((123, 2004), (53, 2004))"
      ]
     },
     "metadata": {},
     "execution_count": 81
    }
   ],
   "metadata": {}
  },
  {
   "cell_type": "code",
   "execution_count": 82,
   "source": [
    "# Scale the data\r\n",
    "scaler = StandardScaler()\r\n",
    "X_train = scaler.fit_transform(X_train)\r\n",
    "X_test = scaler.transform(X_test)\r\n",
    "\r\n",
    "X_train, y_train = np.array(X_train), np.array(y_train)\r\n",
    "X_test, y_test = np.array(X_test), np.array(y_test)"
   ],
   "outputs": [],
   "metadata": {}
  },
  {
   "cell_type": "markdown",
   "source": [
    "# Neural Network Design with PyTorch"
   ],
   "metadata": {}
  },
  {
   "cell_type": "markdown",
   "source": [
    "## Creating train and test datasets"
   ],
   "metadata": {}
  },
  {
   "cell_type": "code",
   "execution_count": 83,
   "source": [
    "class BodyLanguageDataset(Dataset):\r\n",
    "    def __init__(self, X_data, y_data):\r\n",
    "        self.X_data = X_data\r\n",
    "        self.y_data = y_data\r\n",
    "\r\n",
    "    def __len__(self):\r\n",
    "        return len(self.y_data)\r\n",
    "    \r\n",
    "    def __getitem__(self, index):\r\n",
    "        return self.X_data[index], self.y_data[index]"
   ],
   "outputs": [],
   "metadata": {}
  },
  {
   "cell_type": "code",
   "execution_count": 84,
   "source": [
    "train_dataset = BodyLanguageDataset(torch.from_numpy(X_train).float(), torch.from_numpy(y_train).long())\r\n",
    "test_dataset = BodyLanguageDataset(torch.from_numpy(X_test).float(), torch.from_numpy(y_test).long())"
   ],
   "outputs": [],
   "metadata": {}
  },
  {
   "cell_type": "markdown",
   "source": [
    "## Modeling"
   ],
   "metadata": {}
  },
  {
   "cell_type": "code",
   "execution_count": 85,
   "source": [
    "class BodyLanguageClassification(nn.Module):\r\n",
    "    def __init__(self, num_feature, num_class):\r\n",
    "        super(BodyLanguageClassification, self).__init__()\r\n",
    "        \r\n",
    "        self.layer_1 = nn.Linear(num_feature, 512)\r\n",
    "        self.layer_2 = nn.Linear(512, 128)\r\n",
    "        self.layer_3 = nn.Linear(128, 64)\r\n",
    "        self.layer_out = nn.Linear(64, num_class)\r\n",
    "\r\n",
    "        self.relu = nn.ReLU()\r\n",
    "        self.dropout = nn.Dropout(p=0.2)\r\n",
    "        self.batchnorm1 = nn.BatchNorm1d(512)\r\n",
    "        self.batchnorm2 = nn.BatchNorm1d(128)\r\n",
    "        self.batchnorm3 = nn.BatchNorm1d(64)\r\n",
    "\r\n",
    "    def forward(self, x):\r\n",
    "        x = self.layer_1(x)\r\n",
    "        x = self.batchnorm1(x)\r\n",
    "        x = self.relu(x)\r\n",
    "        \r\n",
    "        x = self.layer_2(x)\r\n",
    "        x = self.batchnorm2(x)\r\n",
    "        x = self.relu(x)\r\n",
    "        x = self.dropout(x)\r\n",
    "        \r\n",
    "        x = self.layer_3(x)\r\n",
    "        x = self.batchnorm3(x)\r\n",
    "        x = self.relu(x)\r\n",
    "        x = self.dropout(x)\r\n",
    "        \r\n",
    "        x = self.layer_out(x)\r\n",
    "        \r\n",
    "        return x\r\n",
    "        "
   ],
   "outputs": [],
   "metadata": {}
  },
  {
   "cell_type": "code",
   "execution_count": 86,
   "source": [
    "EPOCHS = 100\r\n",
    "BATCH_SIZE = 16\r\n",
    "LEARNING_RATE = 0.0007\r\n",
    "NUM_FEATURES = len(X.columns)\r\n",
    "NUM_CLASSES = max(y) + 1\r\n",
    "\r\n",
    "model = BodyLanguageClassification(num_feature = NUM_FEATURES, num_class = NUM_CLASSES)\r\n",
    "\r\n",
    "train_loader = DataLoader(dataset=train_dataset,\r\n",
    "                          batch_size=BATCH_SIZE\r\n",
    ")\r\n",
    "test_loader = DataLoader(dataset=test_dataset, batch_size=1)\r\n",
    "\r\n",
    "criterion = nn.CrossEntropyLoss()\r\n",
    "optimizer = optim.Adam(model.parameters(), lr=LEARNING_RATE)\r\n",
    "\r\n",
    "print(model)"
   ],
   "outputs": [
    {
     "output_type": "stream",
     "name": "stdout",
     "text": [
      "BodyLanguageClassification(\n",
      "  (layer_1): Linear(in_features=2004, out_features=512, bias=True)\n",
      "  (layer_2): Linear(in_features=512, out_features=128, bias=True)\n",
      "  (layer_3): Linear(in_features=128, out_features=64, bias=True)\n",
      "  (layer_out): Linear(in_features=64, out_features=1, bias=True)\n",
      "  (relu): ReLU()\n",
      "  (dropout): Dropout(p=0.2, inplace=False)\n",
      "  (batchnorm1): BatchNorm1d(512, eps=1e-05, momentum=0.1, affine=True, track_running_stats=True)\n",
      "  (batchnorm2): BatchNorm1d(128, eps=1e-05, momentum=0.1, affine=True, track_running_stats=True)\n",
      "  (batchnorm3): BatchNorm1d(64, eps=1e-05, momentum=0.1, affine=True, track_running_stats=True)\n",
      ")\n"
     ]
    }
   ],
   "metadata": {}
  },
  {
   "cell_type": "markdown",
   "source": [
    "## Training the Model"
   ],
   "metadata": {}
  },
  {
   "cell_type": "code",
   "execution_count": 87,
   "source": [
    "# accuracy function\r\n",
    "def multi_acc(y_pred, y_test):\r\n",
    "    y_pred_softmax = torch.log_softmax(y_pred, dim = 1)\r\n",
    "    _, y_pred_tags = torch.max(y_pred_softmax, dim = 1)    \r\n",
    "    \r\n",
    "    correct_pred = (y_pred_tags == y_test).float()\r\n",
    "    acc = correct_pred.sum() / len(correct_pred)\r\n",
    "    \r\n",
    "    acc = torch.round(acc * 100)\r\n",
    "    \r\n",
    "    return acc"
   ],
   "outputs": [],
   "metadata": {}
  },
  {
   "cell_type": "code",
   "execution_count": 88,
   "source": [
    "# storage of stats\r\n",
    "accuracy_stats = {\r\n",
    "    'train': []\r\n",
    "}\r\n",
    "loss_stats = {\r\n",
    "    'train': []\r\n",
    "}"
   ],
   "outputs": [],
   "metadata": {}
  },
  {
   "cell_type": "code",
   "execution_count": 89,
   "source": [
    "# Training\r\n",
    "for e in range(EPOCHS):\r\n",
    "\r\n",
    "    train_epoch_loss = 0\r\n",
    "    train_epoch_acc = 0\r\n",
    "\r\n",
    "    model.train()\r\n",
    "    for X_train_batch, y_train_batch in train_loader:\r\n",
    "        optimizer.zero_grad()\r\n",
    "        \r\n",
    "        y_train_pred = model(X_train_batch)\r\n",
    "        \r\n",
    "        train_loss = criterion(y_train_pred, y_train_batch)\r\n",
    "        train_acc = multi_acc(y_train_pred, y_train_batch)\r\n",
    "        \r\n",
    "        train_loss.backward()\r\n",
    "        optimizer.step()\r\n",
    "        \r\n",
    "        train_epoch_loss += train_loss.item()\r\n",
    "        train_epoch_acc += train_acc.item()\r\n",
    "\r\n",
    "    loss_stats['train'].append(train_epoch_loss/len(train_loader))\r\n",
    "    accuracy_stats['train'].append(train_epoch_acc/len(train_loader))\r\n",
    "\r\n",
    "    print(f'Epoch {e}: | Train Loss: {train_epoch_loss/len(train_loader):.5f} | Train Acc: {train_epoch_acc/len(train_loader):.3f}')"
   ],
   "outputs": [
    {
     "output_type": "stream",
     "name": "stdout",
     "text": [
      "Epoch 0: | Train Loss: 0.00000 | Train Acc: 100.000\n",
      "Epoch 1: | Train Loss: 0.00000 | Train Acc: 100.000\n",
      "Epoch 2: | Train Loss: 0.00000 | Train Acc: 100.000\n",
      "Epoch 3: | Train Loss: 0.00000 | Train Acc: 100.000\n",
      "Epoch 4: | Train Loss: 0.00000 | Train Acc: 100.000\n",
      "Epoch 5: | Train Loss: 0.00000 | Train Acc: 100.000\n",
      "Epoch 6: | Train Loss: 0.00000 | Train Acc: 100.000\n",
      "Epoch 7: | Train Loss: 0.00000 | Train Acc: 100.000\n",
      "Epoch 8: | Train Loss: 0.00000 | Train Acc: 100.000\n",
      "Epoch 9: | Train Loss: 0.00000 | Train Acc: 100.000\n",
      "Epoch 10: | Train Loss: 0.00000 | Train Acc: 100.000\n",
      "Epoch 11: | Train Loss: 0.00000 | Train Acc: 100.000\n",
      "Epoch 12: | Train Loss: 0.00000 | Train Acc: 100.000\n",
      "Epoch 13: | Train Loss: 0.00000 | Train Acc: 100.000\n",
      "Epoch 14: | Train Loss: 0.00000 | Train Acc: 100.000\n",
      "Epoch 15: | Train Loss: 0.00000 | Train Acc: 100.000\n",
      "Epoch 16: | Train Loss: 0.00000 | Train Acc: 100.000\n",
      "Epoch 17: | Train Loss: 0.00000 | Train Acc: 100.000\n",
      "Epoch 18: | Train Loss: 0.00000 | Train Acc: 100.000\n",
      "Epoch 19: | Train Loss: 0.00000 | Train Acc: 100.000\n",
      "Epoch 20: | Train Loss: 0.00000 | Train Acc: 100.000\n",
      "Epoch 21: | Train Loss: 0.00000 | Train Acc: 100.000\n",
      "Epoch 22: | Train Loss: 0.00000 | Train Acc: 100.000\n",
      "Epoch 23: | Train Loss: 0.00000 | Train Acc: 100.000\n",
      "Epoch 24: | Train Loss: 0.00000 | Train Acc: 100.000\n",
      "Epoch 25: | Train Loss: 0.00000 | Train Acc: 100.000\n",
      "Epoch 26: | Train Loss: 0.00000 | Train Acc: 100.000\n",
      "Epoch 27: | Train Loss: 0.00000 | Train Acc: 100.000\n",
      "Epoch 28: | Train Loss: 0.00000 | Train Acc: 100.000\n",
      "Epoch 29: | Train Loss: 0.00000 | Train Acc: 100.000\n",
      "Epoch 30: | Train Loss: 0.00000 | Train Acc: 100.000\n",
      "Epoch 31: | Train Loss: 0.00000 | Train Acc: 100.000\n",
      "Epoch 32: | Train Loss: 0.00000 | Train Acc: 100.000\n",
      "Epoch 33: | Train Loss: 0.00000 | Train Acc: 100.000\n",
      "Epoch 34: | Train Loss: 0.00000 | Train Acc: 100.000\n",
      "Epoch 35: | Train Loss: 0.00000 | Train Acc: 100.000\n",
      "Epoch 36: | Train Loss: 0.00000 | Train Acc: 100.000\n",
      "Epoch 37: | Train Loss: 0.00000 | Train Acc: 100.000\n",
      "Epoch 38: | Train Loss: 0.00000 | Train Acc: 100.000\n",
      "Epoch 39: | Train Loss: 0.00000 | Train Acc: 100.000\n",
      "Epoch 40: | Train Loss: 0.00000 | Train Acc: 100.000\n",
      "Epoch 41: | Train Loss: 0.00000 | Train Acc: 100.000\n",
      "Epoch 42: | Train Loss: 0.00000 | Train Acc: 100.000\n",
      "Epoch 43: | Train Loss: 0.00000 | Train Acc: 100.000\n",
      "Epoch 44: | Train Loss: 0.00000 | Train Acc: 100.000\n",
      "Epoch 45: | Train Loss: 0.00000 | Train Acc: 100.000\n",
      "Epoch 46: | Train Loss: 0.00000 | Train Acc: 100.000\n",
      "Epoch 47: | Train Loss: 0.00000 | Train Acc: 100.000\n",
      "Epoch 48: | Train Loss: 0.00000 | Train Acc: 100.000\n",
      "Epoch 49: | Train Loss: 0.00000 | Train Acc: 100.000\n",
      "Epoch 50: | Train Loss: 0.00000 | Train Acc: 100.000\n",
      "Epoch 51: | Train Loss: 0.00000 | Train Acc: 100.000\n",
      "Epoch 52: | Train Loss: 0.00000 | Train Acc: 100.000\n",
      "Epoch 53: | Train Loss: 0.00000 | Train Acc: 100.000\n",
      "Epoch 54: | Train Loss: 0.00000 | Train Acc: 100.000\n",
      "Epoch 55: | Train Loss: 0.00000 | Train Acc: 100.000\n",
      "Epoch 56: | Train Loss: 0.00000 | Train Acc: 100.000\n",
      "Epoch 57: | Train Loss: 0.00000 | Train Acc: 100.000\n",
      "Epoch 58: | Train Loss: 0.00000 | Train Acc: 100.000\n",
      "Epoch 59: | Train Loss: 0.00000 | Train Acc: 100.000\n",
      "Epoch 60: | Train Loss: 0.00000 | Train Acc: 100.000\n",
      "Epoch 61: | Train Loss: 0.00000 | Train Acc: 100.000\n",
      "Epoch 62: | Train Loss: 0.00000 | Train Acc: 100.000\n",
      "Epoch 63: | Train Loss: 0.00000 | Train Acc: 100.000\n",
      "Epoch 64: | Train Loss: 0.00000 | Train Acc: 100.000\n",
      "Epoch 65: | Train Loss: 0.00000 | Train Acc: 100.000\n",
      "Epoch 66: | Train Loss: 0.00000 | Train Acc: 100.000\n",
      "Epoch 67: | Train Loss: 0.00000 | Train Acc: 100.000\n",
      "Epoch 68: | Train Loss: 0.00000 | Train Acc: 100.000\n",
      "Epoch 69: | Train Loss: 0.00000 | Train Acc: 100.000\n",
      "Epoch 70: | Train Loss: 0.00000 | Train Acc: 100.000\n",
      "Epoch 71: | Train Loss: 0.00000 | Train Acc: 100.000\n",
      "Epoch 72: | Train Loss: 0.00000 | Train Acc: 100.000\n",
      "Epoch 73: | Train Loss: 0.00000 | Train Acc: 100.000\n",
      "Epoch 74: | Train Loss: 0.00000 | Train Acc: 100.000\n",
      "Epoch 75: | Train Loss: 0.00000 | Train Acc: 100.000\n",
      "Epoch 76: | Train Loss: 0.00000 | Train Acc: 100.000\n",
      "Epoch 77: | Train Loss: 0.00000 | Train Acc: 100.000\n",
      "Epoch 78: | Train Loss: 0.00000 | Train Acc: 100.000\n",
      "Epoch 79: | Train Loss: 0.00000 | Train Acc: 100.000\n",
      "Epoch 80: | Train Loss: 0.00000 | Train Acc: 100.000\n",
      "Epoch 81: | Train Loss: 0.00000 | Train Acc: 100.000\n",
      "Epoch 82: | Train Loss: 0.00000 | Train Acc: 100.000\n",
      "Epoch 83: | Train Loss: 0.00000 | Train Acc: 100.000\n",
      "Epoch 84: | Train Loss: 0.00000 | Train Acc: 100.000\n",
      "Epoch 85: | Train Loss: 0.00000 | Train Acc: 100.000\n",
      "Epoch 86: | Train Loss: 0.00000 | Train Acc: 100.000\n",
      "Epoch 87: | Train Loss: 0.00000 | Train Acc: 100.000\n",
      "Epoch 88: | Train Loss: 0.00000 | Train Acc: 100.000\n",
      "Epoch 89: | Train Loss: 0.00000 | Train Acc: 100.000\n",
      "Epoch 90: | Train Loss: 0.00000 | Train Acc: 100.000\n",
      "Epoch 91: | Train Loss: 0.00000 | Train Acc: 100.000\n",
      "Epoch 92: | Train Loss: 0.00000 | Train Acc: 100.000\n",
      "Epoch 93: | Train Loss: 0.00000 | Train Acc: 100.000\n",
      "Epoch 94: | Train Loss: 0.00000 | Train Acc: 100.000\n",
      "Epoch 95: | Train Loss: 0.00000 | Train Acc: 100.000\n",
      "Epoch 96: | Train Loss: 0.00000 | Train Acc: 100.000\n",
      "Epoch 97: | Train Loss: 0.00000 | Train Acc: 100.000\n",
      "Epoch 98: | Train Loss: 0.00000 | Train Acc: 100.000\n",
      "Epoch 99: | Train Loss: 0.00000 | Train Acc: 100.000\n"
     ]
    }
   ],
   "metadata": {}
  },
  {
   "cell_type": "code",
   "execution_count": 90,
   "source": [
    "# Create dataframes\r\n",
    "train_val_acc_df = pd.DataFrame.from_dict(accuracy_stats).reset_index().melt(id_vars=['index']).rename(columns={\"index\":\"epochs\"})\r\n",
    "train_val_loss_df = pd.DataFrame.from_dict(loss_stats).reset_index().melt(id_vars=['index']).rename(columns={\"index\":\"epochs\"})\r\n",
    "# Plot the dataframes\r\n",
    "fig, axes = plt.subplots(nrows=1, ncols=2, figsize=(20,7))\r\n",
    "sns.lineplot(data=train_val_acc_df, x = \"epochs\", y=\"value\", hue=\"variable\",  ax=axes[0]).set_title('Train-Val Accuracy/Epoch')\r\n",
    "sns.lineplot(data=train_val_loss_df, x = \"epochs\", y=\"value\", hue=\"variable\", ax=axes[1]).set_title('Train-Val Loss/Epoch')"
   ],
   "outputs": [
    {
     "output_type": "execute_result",
     "data": {
      "text/plain": [
       "Text(0.5, 1.0, 'Train-Val Loss/Epoch')"
      ]
     },
     "metadata": {},
     "execution_count": 90
    },
    {
     "output_type": "display_data",
     "data": {
      "text/plain": [
       "<Figure size 1440x504 with 2 Axes>"
      ],
      "image/png": "[encoded data removed]"
     },
     "metadata": {
      "needs_background": "light"
     }
    }
   ],
   "metadata": {}
  },
  {
   "cell_type": "markdown",
   "source": [
    "# Prediction and Evaluation"
   ],
   "metadata": {}
  },
  {
   "cell_type": "code",
   "execution_count": 91,
   "source": [
    "y_pred_list = []\r\n",
    "with torch.no_grad():\r\n",
    "    model.eval()\r\n",
    "    for X_batch, _ in test_loader:\r\n",
    "        y_test_pred = model(X_batch)\r\n",
    "        _, y_pred_tags = torch.max(y_test_pred, dim = 1)\r\n",
    "        y_pred_list.append(y_pred_tags.cpu().numpy())\r\n",
    "\r\n",
    "y_pred_list = [a.squeeze().tolist() for a in y_pred_list]"
   ],
   "outputs": [],
   "metadata": {}
  },
  {
   "cell_type": "code",
   "execution_count": 92,
   "source": [
    "#[print(i)  for i in zip(le.inverse_transform(y_pred_list), le.inverse_transform(y_test))]"
   ],
   "outputs": [],
   "metadata": {}
  },
  {
   "cell_type": "code",
   "execution_count": 93,
   "source": [
    "print(classification_report(y_test, y_pred_list))"
   ],
   "outputs": [
    {
     "output_type": "stream",
     "name": "stdout",
     "text": [
      "              precision    recall  f1-score   support\n",
      "\n",
      "           0       1.00      1.00      1.00        53\n",
      "\n",
      "    accuracy                           1.00        53\n",
      "   macro avg       1.00      1.00      1.00        53\n",
      "weighted avg       1.00      1.00      1.00        53\n",
      "\n"
     ]
    }
   ],
   "metadata": {}
  },
  {
   "cell_type": "code",
   "execution_count": 94,
   "source": [
    "# Read Model"
   ],
   "outputs": [],
   "metadata": {}
  },
  {
   "cell_type": "code",
   "execution_count": 95,
   "source": [
    "mp_drawing = mp.solutions.drawing_utils # Drawing helper\r\n",
    "mp_hands = mp.solutions.hands\r\n",
    "mp_holistic = mp.solutions.holistic"
   ],
   "outputs": [],
   "metadata": {}
  },
  {
   "cell_type": "code",
   "execution_count": 96,
   "source": [
    "import traceback\r\n",
    "cap = cv2.VideoCapture(0)\r\n",
    "# Initiate holistic model\r\n",
    "with mp_holistic.Holistic(min_detection_confidence=0.5, min_tracking_confidence=0.5) as holistic:\r\n",
    "    \r\n",
    "    while cap.isOpened():\r\n",
    "        ret, frame = cap.read()\r\n",
    "        \r\n",
    "        # Recolor Feed\r\n",
    "        image = cv2.cvtColor(frame, cv2.COLOR_BGR2RGB)\r\n",
    "        image.flags.writeable = False        \r\n",
    "        \r\n",
    "        # Make Detections\r\n",
    "        results = holistic.process(image)\r\n",
    "        # print(results.face_landmarks)\r\n",
    "        \r\n",
    "        # face_landmarks, pose_landmarks, left_hand_landmarks, right_hand_landmarks\r\n",
    "        \r\n",
    "        # Recolor image back to BGR for rendering\r\n",
    "        image.flags.writeable = True   \r\n",
    "        image = cv2.cvtColor(image, cv2.COLOR_RGB2BGR)\r\n",
    "        \r\n",
    "        # 1. Draw face landmarks\r\n",
    "        mp_drawing.draw_landmarks(image, results.face_landmarks, mp_holistic.FACE_CONNECTIONS, \r\n",
    "                                 mp_drawing.DrawingSpec(color=(80,110,10), thickness=1, circle_radius=1),\r\n",
    "                                 mp_drawing.DrawingSpec(color=(80,256,121), thickness=1, circle_radius=1)\r\n",
    "                                 )\r\n",
    "        \r\n",
    "        # 2. Right hand\r\n",
    "        mp_drawing.draw_landmarks(image, results.right_hand_landmarks, mp_holistic.HAND_CONNECTIONS, \r\n",
    "                                 mp_drawing.DrawingSpec(color=(80,22,10), thickness=2, circle_radius=4),\r\n",
    "                                 mp_drawing.DrawingSpec(color=(80,44,121), thickness=2, circle_radius=2)\r\n",
    "                                 )\r\n",
    "\r\n",
    "        # 3. Left Hand\r\n",
    "        mp_drawing.draw_landmarks(image, results.left_hand_landmarks, mp_holistic.HAND_CONNECTIONS, \r\n",
    "                                 mp_drawing.DrawingSpec(color=(121,22,76), thickness=2, circle_radius=4),\r\n",
    "                                 mp_drawing.DrawingSpec(color=(121,44,250), thickness=2, circle_radius=2)\r\n",
    "                                 )\r\n",
    "\r\n",
    "        # 4. Pose Detections\r\n",
    "        mp_drawing.draw_landmarks(image, results.pose_landmarks, mp_holistic.POSE_CONNECTIONS, \r\n",
    "                                 mp_drawing.DrawingSpec(color=(245,117,66), thickness=2, circle_radius=4),\r\n",
    "                                 mp_drawing.DrawingSpec(color=(245,66,230), thickness=2, circle_radius=2)\r\n",
    "                                 )\r\n",
    "        # Export coordinates\r\n",
    "        try:\r\n",
    "            # Extract Pose landmarks\r\n",
    "            pose = results.pose_landmarks.landmark\r\n",
    "            pose_row = list(np.array([[landmark.x, landmark.y, landmark.z, landmark.visibility] for landmark in pose]).flatten())\r\n",
    "            \r\n",
    "            # Extract Face landmarks\r\n",
    "            face = results.face_landmarks.landmark\r\n",
    "            face_row = list(np.array([[landmark.x, landmark.y, landmark.z, landmark.visibility] for landmark in face]).flatten())\r\n",
    "            \r\n",
    "            # Concate rows\r\n",
    "            row = pose_row+face_row\r\n",
    "            \r\n",
    "            # Make Detections\r\n",
    "            X = pd.DataFrame([row])\r\n",
    "            #X = scaler.fit_transform(X)\r\n",
    "            X = np.array(X)\r\n",
    "\r\n",
    "            # mylist.append(list(*X))\r\n",
    "            # if(counter %  50 == 0):\r\n",
    "            #     print('saving')\r\n",
    "            #     a = np.array(mylist)\r\n",
    "            #     np.savetxt(\"foo1.csv\", a, delimiter=\",\")\r\n",
    "            # print(counter)\r\n",
    "            X = torch.tensor(X, dtype=torch.float32)\r\n",
    "\r\n",
    "            with torch.no_grad():\r\n",
    "                model.eval()\r\n",
    "                y_test_pred = model(X)\r\n",
    "                _, y_pred_tags = torch.max(y_test_pred, dim = 1)\r\n",
    "                body_language_class = le.inverse_transform(y_pred_tags.cpu().numpy())[0]\r\n",
    "                #print(body_language_class)\r\n",
    "            \r\n",
    "            # Grab ear coords\r\n",
    "            coords = tuple(np.multiply(\r\n",
    "                            np.array(\r\n",
    "                                (results.pose_landmarks.landmark[mp_holistic.PoseLandmark.LEFT_EAR].x, \r\n",
    "                                 results.pose_landmarks.landmark[mp_holistic.PoseLandmark.LEFT_EAR].y))\r\n",
    "                        , [640,480]).astype(int))\r\n",
    "            \r\n",
    "            cv2.rectangle(image, \r\n",
    "                          (coords[0], coords[1]+5), \r\n",
    "                          (coords[0]+len(body_language_class)*20, coords[1]-30), \r\n",
    "                          (245, 117, 16), -1)\r\n",
    "            cv2.putText(image, body_language_class, coords, \r\n",
    "                        cv2.FONT_HERSHEY_SIMPLEX, 1, (255, 255, 255), 2, cv2.LINE_AA)\r\n",
    "            \r\n",
    "            # Get status box\r\n",
    "            cv2.rectangle(image, (0,0), (250, 60), (245, 117, 16), -1)\r\n",
    "            \r\n",
    "            # Display Class\r\n",
    "            cv2.putText(image, 'CLASS'\r\n",
    "                        , (95,12), cv2.FONT_HERSHEY_SIMPLEX, 0.5, (0, 0, 0), 1, cv2.LINE_AA)\r\n",
    "            cv2.putText(image, body_language_class.split(' ')[0]\r\n",
    "                        , (90,40), cv2.FONT_HERSHEY_SIMPLEX, 1, (255, 255, 255), 2, cv2.LINE_AA)\r\n",
    "            \r\n",
    "            # # Display Probability\r\n",
    "            # cv2.putText(image, 'PROB'\r\n",
    "            #             , (15,12), cv2.FONT_HERSHEY_SIMPLEX, 0.5, (0, 0, 0), 1, cv2.LINE_AA)\r\n",
    "            # cv2.putText(image, str(round(body_language_prob[np.argmax(body_language_prob)],2))\r\n",
    "            #             , (10,40), cv2.FONT_HERSHEY_SIMPLEX, 1, (255, 255, 255), 2, cv2.LINE_AA)\r\n",
    "            \r\n",
    "        except:\r\n",
    "            traceback.print_exc()\r\n",
    "                        \r\n",
    "        cv2.imshow('Raw Webcam Feed', image)\r\n",
    "\r\n",
    "        if cv2.waitKey(10) & 0xFF == ord('q'):\r\n",
    "            break\r\n",
    "\r\n",
    "cap.release()\r\n",
    "cv2.destroyAllWindows()\r\n"
   ],
   "outputs": [
    {
     "output_type": "stream",
     "name": "stderr",
     "text": [
      "Traceback (most recent call last):\n",
      "  File \"<ipython-input-96-a121c4ca6d78>\", line 49, in <module>\n",
      "    pose = results.pose_landmarks.landmark\n",
      "AttributeError: 'NoneType' object has no attribute 'landmark'\n",
      "Traceback (most recent call last):\n",
      "  File \"<ipython-input-96-a121c4ca6d78>\", line 49, in <module>\n",
      "    pose = results.pose_landmarks.landmark\n",
      "AttributeError: 'NoneType' object has no attribute 'landmark'\n"
     ]
    }
   ],
   "metadata": {}
  },
  {
   "cell_type": "code",
   "execution_count": 97,
   "source": [
    "import traceback\r\n",
    "\r\n",
    "cap = cv2.VideoCapture(0)\r\n",
    "# Initiate holistic model\r\n",
    "with mp_hands.Hands(max_num_hands=1) as hand:\r\n",
    "\r\n",
    "    while cap.isOpened():\r\n",
    "        ret, frame = cap.read()\r\n",
    "\r\n",
    "        # Recolor the image\r\n",
    "        image = cv2.cvtColor(frame, cv2.COLOR_BGR2RGB)\r\n",
    "        image.flags.writeable = False\r\n",
    "        # Make Detections\r\n",
    "        results = hand.process(image)\r\n",
    "\r\n",
    "        # Landmark detection\r\n",
    "        image.flags.writeable = True\r\n",
    "        image = cv2.cvtColor(image, cv2.COLOR_RGB2BGR)\r\n",
    "        \r\n",
    "        if results.multi_hand_landmarks:\r\n",
    "            for handLms in results.multi_hand_landmarks:\r\n",
    "                    mp_drawing.draw_landmarks(image, handLms, mp_hands.HAND_CONNECTIONS)\r\n",
    "\r\n",
    "        if results.multi_hand_landmarks:\r\n",
    "            # Export coordinates\r\n",
    "            try:\r\n",
    "                # Extracting hand landmarks\r\n",
    "                # Extracting pose landmark\r\n",
    "                detected_hand = results.multi_hand_landmarks[0].landmark\r\n",
    "                hand_row = list(np.array([[landmark.x, landmark.y, landmark.z] for landmark in detected_hand]).flatten())\r\n",
    "                #print(list([landmark for landmark in detected_hand]))\r\n",
    "\r\n",
    "                # Concatanate rows\r\n",
    "                row = hand_row\r\n",
    "\r\n",
    "                # Make Detections\r\n",
    "                X = pd.DataFrame([row])\r\n",
    "                #X = scaler.fit_transform(X)\r\n",
    "                X = np.array(X)\r\n",
    "\r\n",
    "                # mylist.append(list(*X))\r\n",
    "                # if(counter %  50 == 0):\r\n",
    "                #     print('saving')\r\n",
    "                #     a = np.array(mylist)\r\n",
    "                #     np.savetxt(\"foo1.csv\", a, delimiter=\",\")\r\n",
    "                # print(counter)\r\n",
    "                X = torch.tensor(X, dtype=torch.float32)\r\n",
    "\r\n",
    "                with torch.no_grad():\r\n",
    "                    model.eval()\r\n",
    "                    y_test_pred = model(X)\r\n",
    "                    _, y_pred_tags = torch.max(y_test_pred, dim = 1)\r\n",
    "                    body_language_class = le.inverse_transform(y_pred_tags.cpu().numpy())[0]\r\n",
    "\r\n",
    "                # Get status box\r\n",
    "                cv2.rectangle(image, (0,0), (250, 60), (245, 117, 16), -1)\r\n",
    "\r\n",
    "                # Display Class\r\n",
    "                cv2.putText(image, 'CLASS'\r\n",
    "                            , (95,12), cv2.FONT_HERSHEY_SIMPLEX, 0.5, (0, 0, 0), 1, cv2.LINE_AA)\r\n",
    "                cv2.putText(image, body_language_class.split(' ')[0]\r\n",
    "                            , (90,40), cv2.FONT_HERSHEY_SIMPLEX, 1, (255, 255, 255), 2, cv2.LINE_AA)\r\n",
    "                \r\n",
    "                \r\n",
    "            except:\r\n",
    "                traceback.print_exc()\r\n",
    "                            \r\n",
    "            cv2.imshow('Raw Webcam Feed', image)\r\n",
    "\r\n",
    "        if cv2.waitKey(10) & 0xFF == ord('q'):\r\n",
    "            break\r\n",
    "\r\n",
    "cap.release()\r\n",
    "cv2.destroyAllWindows()"
   ],
   "outputs": [
    {
     "output_type": "error",
     "ename": "KeyboardInterrupt",
     "evalue": "",
     "traceback": [
      "\u001b[1;31m---------------------------------------------------------------------------\u001b[0m",
      "\u001b[1;31mKeyboardInterrupt\u001b[0m                         Traceback (most recent call last)",
      "\u001b[1;32m<ipython-input-97-43ab20addd3c>\u001b[0m in \u001b[0;36m<module>\u001b[1;34m\u001b[0m\n\u001b[0;32m     12\u001b[0m         \u001b[0mimage\u001b[0m\u001b[1;33m.\u001b[0m\u001b[0mflags\u001b[0m\u001b[1;33m.\u001b[0m\u001b[0mwriteable\u001b[0m \u001b[1;33m=\u001b[0m \u001b[1;32mFalse\u001b[0m\u001b[1;33m\u001b[0m\u001b[1;33m\u001b[0m\u001b[0m\n\u001b[0;32m     13\u001b[0m         \u001b[1;31m# Make Detections\u001b[0m\u001b[1;33m\u001b[0m\u001b[1;33m\u001b[0m\u001b[1;33m\u001b[0m\u001b[0m\n\u001b[1;32m---> 14\u001b[1;33m         \u001b[0mresults\u001b[0m \u001b[1;33m=\u001b[0m \u001b[0mhand\u001b[0m\u001b[1;33m.\u001b[0m\u001b[0mprocess\u001b[0m\u001b[1;33m(\u001b[0m\u001b[0mimage\u001b[0m\u001b[1;33m)\u001b[0m\u001b[1;33m\u001b[0m\u001b[1;33m\u001b[0m\u001b[0m\n\u001b[0m\u001b[0;32m     15\u001b[0m \u001b[1;33m\u001b[0m\u001b[0m\n\u001b[0;32m     16\u001b[0m         \u001b[1;31m# Landmark detection\u001b[0m\u001b[1;33m\u001b[0m\u001b[1;33m\u001b[0m\u001b[1;33m\u001b[0m\u001b[0m\n",
      "\u001b[1;32m~\\anaconda3\\lib\\site-packages\\mediapipe\\python\\solutions\\hands.py\u001b[0m in \u001b[0;36mprocess\u001b[1;34m(self, image)\u001b[0m\n\u001b[0;32m    162\u001b[0m     \"\"\"\n\u001b[0;32m    163\u001b[0m \u001b[1;33m\u001b[0m\u001b[0m\n\u001b[1;32m--> 164\u001b[1;33m     \u001b[1;32mreturn\u001b[0m \u001b[0msuper\u001b[0m\u001b[1;33m(\u001b[0m\u001b[1;33m)\u001b[0m\u001b[1;33m.\u001b[0m\u001b[0mprocess\u001b[0m\u001b[1;33m(\u001b[0m\u001b[0minput_data\u001b[0m\u001b[1;33m=\u001b[0m\u001b[1;33m{\u001b[0m\u001b[1;34m'image'\u001b[0m\u001b[1;33m:\u001b[0m \u001b[0mimage\u001b[0m\u001b[1;33m}\u001b[0m\u001b[1;33m)\u001b[0m\u001b[1;33m\u001b[0m\u001b[1;33m\u001b[0m\u001b[0m\n\u001b[0m",
      "\u001b[1;32m~\\anaconda3\\lib\\site-packages\\mediapipe\\python\\solution_base.py\u001b[0m in \u001b[0;36mprocess\u001b[1;34m(self, input_data)\u001b[0m\n\u001b[0;32m    316\u001b[0m             f'type is not supported yet.')\n\u001b[0;32m    317\u001b[0m \u001b[1;33m\u001b[0m\u001b[0m\n\u001b[1;32m--> 318\u001b[1;33m     \u001b[0mself\u001b[0m\u001b[1;33m.\u001b[0m\u001b[0m_graph\u001b[0m\u001b[1;33m.\u001b[0m\u001b[0mwait_until_idle\u001b[0m\u001b[1;33m(\u001b[0m\u001b[1;33m)\u001b[0m\u001b[1;33m\u001b[0m\u001b[1;33m\u001b[0m\u001b[0m\n\u001b[0m\u001b[0;32m    319\u001b[0m     \u001b[1;31m# Create a NamedTuple object where the field names are mapping to the graph\u001b[0m\u001b[1;33m\u001b[0m\u001b[1;33m\u001b[0m\u001b[1;33m\u001b[0m\u001b[0m\n\u001b[0;32m    320\u001b[0m     \u001b[1;31m# output stream names.\u001b[0m\u001b[1;33m\u001b[0m\u001b[1;33m\u001b[0m\u001b[1;33m\u001b[0m\u001b[0m\n",
      "\u001b[1;31mKeyboardInterrupt\u001b[0m: "
     ]
    }
   ],
   "metadata": {}
  },
  {
   "cell_type": "code",
   "execution_count": null,
   "source": [],
   "outputs": [],
   "metadata": {}
  },
  {
   "cell_type": "markdown",
   "source": [],
   "metadata": {}
  }
 ],
 "metadata": {
  "orig_nbformat": 4,
  "language_info": {
   "name": "python",
   "version": "3.8.5",
   "mimetype": "text/x-python",
   "codemirror_mode": {
    "name": "ipython",
    "version": 3
   },
   "pygments_lexer": "ipython3",
   "nbconvert_exporter": "python",
   "file_extension": ".py"
  },
  "kernelspec": {
   "name": "python3",
   "display_name": "Python 3.8.5 64-bit ('base': conda)"
  },
  "interpreter": {
   "hash": "1df6b99b5e9756eed4e22fb0d124bf8d9f8552b372ae034d7c6b29f98bd0c98b"
  }
 },
 "nbformat": 4,
 "nbformat_minor": 2
}